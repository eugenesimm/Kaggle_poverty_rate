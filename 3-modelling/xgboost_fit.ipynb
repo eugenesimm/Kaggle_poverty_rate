{
 "cells": [
  {
   "cell_type": "code",
   "execution_count": null,
   "metadata": {},
   "outputs": [],
   "source": [
    "# Test/Train Split\n",
    "data = pd.read_csv(os.path.join(CLEAN_DATA_DIR, \"TRAIN_MERGED_UNFILLED.csv\"))\n",
    "\n",
    "X_train, X_test, y_train, y_test = train_test_split(data.drop(['psu_hh_idcode', 'hhid', 'subjectivePoverty_rating'], axis='columns'), data['subjectivePoverty_rating'], test_size=0.2, random_state=101)\n",
    "\n",
    "y_train = y_train - 1\n",
    "y_test = y_test - 1\n",
    "\n",
    "import xgboost as xgb\n",
    "xgb_model = xgb.XGBClassifier(objective='multiclass:softmas', scoring='log_loss', learning_rate=0.1, max_depth=1, num_classes=10)\n",
    "print(f\"Training XGBoost model on {X_train.shape[0]} data points\")\n",
    "xgb_model.fit(X_train, y_train)\n",
    "\n",
    "print(f\"Testing model on {X_test.shape[0]} data points\")\n",
    "preds = xgb_model.predict(X_test)\n",
    "preds_proba = xgb_model.predict_proba(X_test)\n",
    "\n",
    "how do I see the log_loss score of my test"
   ]
  }
 ],
 "metadata": {
  "kernelspec": {
   "display_name": "Python 3.11.1 64-bit",
   "language": "python",
   "name": "python3"
  },
  "language_info": {
   "codemirror_mode": {
    "name": "ipython",
    "version": 3
   },
   "file_extension": ".py",
   "mimetype": "text/x-python",
   "name": "python",
   "nbconvert_exporter": "python",
   "pygments_lexer": "ipython3",
   "version": "3.11.1"
  },
  "orig_nbformat": 4,
  "vscode": {
   "interpreter": {
    "hash": "aee8b7b246df8f9039afb4144a1f6fd8d2ca17a180786b69acc140d282b71a49"
   }
  }
 },
 "nbformat": 4,
 "nbformat_minor": 2
}
