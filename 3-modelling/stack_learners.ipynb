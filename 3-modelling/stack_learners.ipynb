{
 "cells": [
  {
   "cell_type": "code",
   "execution_count": 1,
   "metadata": {},
   "outputs": [],
   "source": [
    "import numpy as np\n",
    "import os\n",
    "import pandas as pd\n",
    "from joblib import dump, load\n",
    "\n",
    "from sklearn.ensemble import RandomForestClassifier\n",
    "from sklearn.model_selection import GridSearchCV, train_test_split\n",
    "from sklearn.metrics import make_scorer, log_loss\n",
    "from sklearn.linear_model import LogisticRegression\n",
    "\n",
    "from learners import generate_best_RF_model, generate_best_XGB_model, generate_best_SVM_model\n",
    "from learners import predict_ratings_RF, predict_ratings_XGB, predict_ratings_SVM\n",
    "\n",
    "CLEAN_DATA_DIR = \"../data/clean/\""
   ]
  },
  {
   "cell_type": "markdown",
   "metadata": {},
   "source": [
    "### Split train set into A and B"
   ]
  },
  {
   "cell_type": "code",
   "execution_count": 3,
   "metadata": {},
   "outputs": [
    {
     "name": "stdout",
     "output_type": "stream",
     "text": [
      "train_A: (14215, 14)\n",
      "train_B: (4739, 14)\n"
     ]
    }
   ],
   "source": [
    "# Split train_A and train_B\n",
    "train_data = pd.read_csv(os.path.join(CLEAN_DATA_DIR, \"TRAIN_MERGED_FILLED.csv\"))\n",
    "train_A, train_B = train_test_split(train_data, test_size=0.25, stratify=train_data['subjectivePoverty_rating'], random_state=42)\n",
    "\n",
    "train_A.to_csv(os.path.join(CLEAN_DATA_DIR, \"TRAIN_A.csv\"), index=False)\n",
    "train_A_X = train_A.drop(columns=['subjectivePoverty_rating'])\n",
    "train_A_y = train_A['subjectivePoverty_rating']\n",
    "\n",
    "train_B.to_csv(os.path.join(CLEAN_DATA_DIR, \"TRAIN_B.csv\"), index=False)\n",
    "train_B_X = train_B.drop(columns=['subjectivePoverty_rating'])\n",
    "train_B_y = train_B['subjectivePoverty_rating']\n",
    "\n",
    "print(\"train_A:\", train_A.shape)\n",
    "print(\"train_B:\", train_B.shape)"
   ]
  },
  {
   "cell_type": "markdown",
   "metadata": {},
   "source": [
    "### getting the base learning models"
   ]
  },
  {
   "cell_type": "code",
   "execution_count": 4,
   "metadata": {},
   "outputs": [
    {
     "name": "stdout",
     "output_type": "stream",
     "text": [
      "Fitting 5 folds for each of 162 candidates, totalling 810 fits\n"
     ]
    },
    {
     "name": "stderr",
     "output_type": "stream",
     "text": [
      "/Library/Frameworks/Python.framework/Versions/3.11/lib/python3.11/site-packages/numpy/ma/core.py:2820: RuntimeWarning: invalid value encountered in cast\n",
      "  _data = np.array(data, dtype=dtype, copy=copy,\n"
     ]
    },
    {
     "name": "stdout",
     "output_type": "stream",
     "text": [
      "Best Parameters: {'max_depth': 6, 'max_features': 'log2', 'min_samples_leaf': 42, 'min_samples_split': 2, 'n_estimators': 500}\n",
      "Best Log Loss Score: 1.9345235638999985\n"
     ]
    }
   ],
   "source": [
    "# Retreiving model\n",
    "if \"rf_trained_on_filled_A_2.joblib\" in os.listdir(\"saved_models\"):\n",
    "    model_rf = load(\"saved_models/rf_trained_on_filled_A_2.joblib\")\n",
    "else:\n",
    "    model_rf = generate_best_RF_model(train_A)\n",
    "    dump(model_rf, \"saved_models/rf_trained_on_filled_A_2.joblib\")"
   ]
  },
  {
   "cell_type": "code",
   "execution_count": 5,
   "metadata": {},
   "outputs": [
    {
     "data": {
      "text/html": [
       "<div>\n",
       "<style scoped>\n",
       "    .dataframe tbody tr th:only-of-type {\n",
       "        vertical-align: middle;\n",
       "    }\n",
       "\n",
       "    .dataframe tbody tr th {\n",
       "        vertical-align: top;\n",
       "    }\n",
       "\n",
       "    .dataframe thead th {\n",
       "        text-align: right;\n",
       "    }\n",
       "</style>\n",
       "<table border=\"1\" class=\"dataframe\">\n",
       "  <thead>\n",
       "    <tr style=\"text-align: right;\">\n",
       "      <th></th>\n",
       "      <th>psu_hh_idcode</th>\n",
       "      <th>subjective_poverty_1</th>\n",
       "      <th>subjective_poverty_2</th>\n",
       "      <th>subjective_poverty_3</th>\n",
       "      <th>subjective_poverty_4</th>\n",
       "      <th>subjective_poverty_5</th>\n",
       "      <th>subjective_poverty_6</th>\n",
       "      <th>subjective_poverty_7</th>\n",
       "      <th>subjective_poverty_8</th>\n",
       "      <th>subjective_poverty_9</th>\n",
       "      <th>subjective_poverty_10</th>\n",
       "    </tr>\n",
       "  </thead>\n",
       "  <tbody>\n",
       "    <tr>\n",
       "      <th>0</th>\n",
       "      <td>785_6_1</td>\n",
       "      <td>0.048157</td>\n",
       "      <td>0.099652</td>\n",
       "      <td>0.18146</td>\n",
       "      <td>0.214400</td>\n",
       "      <td>0.205025</td>\n",
       "      <td>0.142089</td>\n",
       "      <td>0.073226</td>\n",
       "      <td>0.029182</td>\n",
       "      <td>0.005514</td>\n",
       "      <td>0.001295</td>\n",
       "    </tr>\n",
       "    <tr>\n",
       "      <th>1</th>\n",
       "      <td>783_8_3</td>\n",
       "      <td>0.038660</td>\n",
       "      <td>0.082182</td>\n",
       "      <td>0.17576</td>\n",
       "      <td>0.206052</td>\n",
       "      <td>0.207858</td>\n",
       "      <td>0.160240</td>\n",
       "      <td>0.082656</td>\n",
       "      <td>0.038393</td>\n",
       "      <td>0.006211</td>\n",
       "      <td>0.001988</td>\n",
       "    </tr>\n",
       "    <tr>\n",
       "      <th>2</th>\n",
       "      <td>561_5_1</td>\n",
       "      <td>0.029078</td>\n",
       "      <td>0.088555</td>\n",
       "      <td>0.18267</td>\n",
       "      <td>0.293259</td>\n",
       "      <td>0.195626</td>\n",
       "      <td>0.117158</td>\n",
       "      <td>0.064869</td>\n",
       "      <td>0.024835</td>\n",
       "      <td>0.003673</td>\n",
       "      <td>0.000278</td>\n",
       "    </tr>\n",
       "  </tbody>\n",
       "</table>\n",
       "</div>"
      ],
      "text/plain": [
       "  psu_hh_idcode  subjective_poverty_1  subjective_poverty_2  \\\n",
       "0       785_6_1              0.048157              0.099652   \n",
       "1       783_8_3              0.038660              0.082182   \n",
       "2       561_5_1              0.029078              0.088555   \n",
       "\n",
       "   subjective_poverty_3  subjective_poverty_4  subjective_poverty_5  \\\n",
       "0               0.18146              0.214400              0.205025   \n",
       "1               0.17576              0.206052              0.207858   \n",
       "2               0.18267              0.293259              0.195626   \n",
       "\n",
       "   subjective_poverty_6  subjective_poverty_7  subjective_poverty_8  \\\n",
       "0              0.142089              0.073226              0.029182   \n",
       "1              0.160240              0.082656              0.038393   \n",
       "2              0.117158              0.064869              0.024835   \n",
       "\n",
       "   subjective_poverty_9  subjective_poverty_10  \n",
       "0              0.005514               0.001295  \n",
       "1              0.006211               0.001988  \n",
       "2              0.003673               0.000278  "
      ]
     },
     "execution_count": 5,
     "metadata": {},
     "output_type": "execute_result"
    }
   ],
   "source": [
    "P_RF = predict_ratings_RF(model_rf, train_B_X)\n",
    "P_RF.to_csv(os.path.join(\"../data/train_B_preds/train_B_preds_rf_2.csv\"), index=False)\n",
    "P_RF.head(3)"
   ]
  },
  {
   "cell_type": "code",
   "execution_count": 6,
   "metadata": {},
   "outputs": [
    {
     "name": "stdout",
     "output_type": "stream",
     "text": [
      "Fitting 5 folds for each of 324 candidates, totalling 1620 fits\n"
     ]
    },
    {
     "name": "stderr",
     "output_type": "stream",
     "text": [
      "/Library/Frameworks/Python.framework/Versions/3.11/lib/python3.11/site-packages/numpy/ma/core.py:2820: RuntimeWarning: invalid value encountered in cast\n",
      "  _data = np.array(data, dtype=dtype, copy=copy,\n"
     ]
    },
    {
     "name": "stdout",
     "output_type": "stream",
     "text": [
      "Best Parameters: {'colsample_bytree': 0.6, 'learning_rate': 0.1, 'max_depth': 3, 'n_estimators': 100, 'subsample': 0.9}\n",
      "Best Log Loss Score: 1.9332040421519412\n"
     ]
    }
   ],
   "source": [
    "if \"xgb_trained_on_filled_A_2.joblib\" in os.listdir(\"saved_models\"):\n",
    "    model_xgb = load(\"saved_models/xgb_trained_on_filled_A_2.joblib\")\n",
    "else:\n",
    "    model_xgb = generate_best_XGB_model(train_A)\n",
    "    dump(model_xgb, \"saved_models/xgb_trained_on_filled_A_2.joblib\")"
   ]
  },
  {
   "cell_type": "code",
   "execution_count": 7,
   "metadata": {},
   "outputs": [
    {
     "name": "stdout",
     "output_type": "stream",
     "text": [
      "(4739, 11)\n"
     ]
    },
    {
     "data": {
      "text/html": [
       "<div>\n",
       "<style scoped>\n",
       "    .dataframe tbody tr th:only-of-type {\n",
       "        vertical-align: middle;\n",
       "    }\n",
       "\n",
       "    .dataframe tbody tr th {\n",
       "        vertical-align: top;\n",
       "    }\n",
       "\n",
       "    .dataframe thead th {\n",
       "        text-align: right;\n",
       "    }\n",
       "</style>\n",
       "<table border=\"1\" class=\"dataframe\">\n",
       "  <thead>\n",
       "    <tr style=\"text-align: right;\">\n",
       "      <th></th>\n",
       "      <th>psu_hh_idcode</th>\n",
       "      <th>subjective_poverty_1</th>\n",
       "      <th>subjective_poverty_2</th>\n",
       "      <th>subjective_poverty_3</th>\n",
       "      <th>subjective_poverty_4</th>\n",
       "      <th>subjective_poverty_5</th>\n",
       "      <th>subjective_poverty_6</th>\n",
       "      <th>subjective_poverty_7</th>\n",
       "      <th>subjective_poverty_8</th>\n",
       "      <th>subjective_poverty_9</th>\n",
       "      <th>subjective_poverty_10</th>\n",
       "    </tr>\n",
       "  </thead>\n",
       "  <tbody>\n",
       "    <tr>\n",
       "      <th>0</th>\n",
       "      <td>785_6_1</td>\n",
       "      <td>0.056401</td>\n",
       "      <td>0.117409</td>\n",
       "      <td>0.179836</td>\n",
       "      <td>0.211556</td>\n",
       "      <td>0.202344</td>\n",
       "      <td>0.146010</td>\n",
       "      <td>0.055165</td>\n",
       "      <td>0.024480</td>\n",
       "      <td>0.005842</td>\n",
       "      <td>0.000957</td>\n",
       "    </tr>\n",
       "    <tr>\n",
       "      <th>1</th>\n",
       "      <td>783_8_3</td>\n",
       "      <td>0.035917</td>\n",
       "      <td>0.074467</td>\n",
       "      <td>0.178470</td>\n",
       "      <td>0.202109</td>\n",
       "      <td>0.196128</td>\n",
       "      <td>0.203638</td>\n",
       "      <td>0.072060</td>\n",
       "      <td>0.025799</td>\n",
       "      <td>0.009168</td>\n",
       "      <td>0.002245</td>\n",
       "    </tr>\n",
       "    <tr>\n",
       "      <th>2</th>\n",
       "      <td>561_5_1</td>\n",
       "      <td>0.028957</td>\n",
       "      <td>0.075431</td>\n",
       "      <td>0.171144</td>\n",
       "      <td>0.374389</td>\n",
       "      <td>0.191440</td>\n",
       "      <td>0.092707</td>\n",
       "      <td>0.047474</td>\n",
       "      <td>0.013585</td>\n",
       "      <td>0.003999</td>\n",
       "      <td>0.000874</td>\n",
       "    </tr>\n",
       "  </tbody>\n",
       "</table>\n",
       "</div>"
      ],
      "text/plain": [
       "  psu_hh_idcode  subjective_poverty_1  subjective_poverty_2  \\\n",
       "0       785_6_1              0.056401              0.117409   \n",
       "1       783_8_3              0.035917              0.074467   \n",
       "2       561_5_1              0.028957              0.075431   \n",
       "\n",
       "   subjective_poverty_3  subjective_poverty_4  subjective_poverty_5  \\\n",
       "0              0.179836              0.211556              0.202344   \n",
       "1              0.178470              0.202109              0.196128   \n",
       "2              0.171144              0.374389              0.191440   \n",
       "\n",
       "   subjective_poverty_6  subjective_poverty_7  subjective_poverty_8  \\\n",
       "0              0.146010              0.055165              0.024480   \n",
       "1              0.203638              0.072060              0.025799   \n",
       "2              0.092707              0.047474              0.013585   \n",
       "\n",
       "   subjective_poverty_9  subjective_poverty_10  \n",
       "0              0.005842               0.000957  \n",
       "1              0.009168               0.002245  \n",
       "2              0.003999               0.000874  "
      ]
     },
     "execution_count": 7,
     "metadata": {},
     "output_type": "execute_result"
    }
   ],
   "source": [
    "P_XGB = predict_ratings_XGB(model_xgb, train_B_X)\n",
    "P_XGB.to_csv(os.path.join(\"../data/train_B_preds/train_B_preds_xgb_2.csv\"), index=False)\n",
    "print(P_XGB.shape)\n",
    "P_XGB.head(3)"
   ]
  },
  {
   "cell_type": "code",
   "execution_count": 8,
   "metadata": {},
   "outputs": [],
   "source": [
    "# train SVM model on train_B_X\n",
    "if \"svm_trained_on_filled_A_2.joblib\" in os.listdir(\"saved_models\"):\n",
    "    model_svm = load(\"saved_models/svm_trained_on_filled_A_2.joblib\")\n",
    "else:\n",
    "    model_svm = generate_best_SVM_model(train_A)\n",
    "    dump(model_svm, \"saved_models/svm_trained_on_filled_A_2.joblib\")"
   ]
  },
  {
   "cell_type": "code",
   "execution_count": 10,
   "metadata": {},
   "outputs": [
    {
     "name": "stderr",
     "output_type": "stream",
     "text": [
      "/Library/Frameworks/Python.framework/Versions/3.11/lib/python3.11/site-packages/sklearn/base.py:486: UserWarning: X has feature names, but SVC was fitted without feature names\n",
      "  warnings.warn(\n"
     ]
    }
   ],
   "source": [
    "# P_SVM = pd.read_csv(\"../data/train_B_preds/train_B_preds_rf.csv\")\n",
    "P_SVM = predict_ratings_SVM(model_svm, train_B_X)\n",
    "P_SVM.to_csv(\"../data/train_B_preds/train_B_preds_svm_2.csv\", index=False)\n",
    "print(P_SVM.shape)\n",
    "P_SVM.head(3)"
   ]
  },
  {
   "cell_type": "markdown",
   "metadata": {},
   "source": [
    "# Training multinomial LogisticRegression model"
   ]
  },
  {
   "cell_type": "code",
   "execution_count": 12,
   "metadata": {},
   "outputs": [
    {
     "name": "stderr",
     "output_type": "stream",
     "text": [
      "/Library/Frameworks/Python.framework/Versions/3.11/lib/python3.11/site-packages/sklearn/linear_model/_logistic.py:1247: FutureWarning: 'multi_class' was deprecated in version 1.5 and will be removed in 1.7. From then on, it will always use 'multinomial'. Leave it to its default value to avoid this warning.\n",
      "  warnings.warn(\n"
     ]
    },
    {
     "name": "stdout",
     "output_type": "stream",
     "text": [
      "Log Loss from Train_B labels: 1.9307\n"
     ]
    }
   ],
   "source": [
    "# Training the stacking model\n",
    "def stack_train(X_stack, y_stack):\n",
    "    \n",
    "    stack_model = LogisticRegression(multi_class='multinomial', max_iter=100000)\n",
    "    stack_model.fit(X_stack, y_stack)\n",
    "\n",
    "    #preds = stack_model.predict(X_stack)\n",
    "    preds_proba = stack_model.predict_proba(X_stack)\n",
    "    log_loss_score = log_loss(y_stack, preds_proba)\n",
    "    print(f\"Log Loss from Train_B labels: {log_loss_score:.4f}\")\n",
    "    dump(stack_model, \"saved_models/stack_trained_on_filled.joblib\")\n",
    "    return stack_model\n",
    "\n",
    "\n",
    "# aligned on id column. make sure each row corresponds to the same subject\n",
    "assert len(P_RF) == len(P_XGB) == len(P_SVM)\n",
    "assert all(P_RF['psu_hh_idcode'] == P_XGB['psu_hh_idcode'])\n",
    "assert all(P_XGB['psu_hh_idcode'] == P_SVM['psu_hh_idcode'])\n",
    "\n",
    "X_stack = pd.concat([\n",
    "    P_RF.drop(columns=['psu_hh_idcode']),\n",
    "    P_XGB.drop(columns=['psu_hh_idcode']), \n",
    "    P_SVM.drop(columns=['psu_hh_idcode'])\n",
    "    ], axis=1)\n",
    "\n",
    "y_stack = train_B_y\n",
    "stack_model = stack_train(X_stack, y_stack)\n",
    "\n",
    "# At this point, we have our stacked model which we can use to generate predictions for our test set.  "
   ]
  },
  {
   "cell_type": "markdown",
   "metadata": {},
   "source": [
    "# Stacking with existing predictions for Train_B"
   ]
  },
  {
   "cell_type": "markdown",
   "metadata": {},
   "source": [
    "At this point we have the three files:\n",
    "- train_B_preds_xgb.csv\n",
    "- train_B_preds_rf.csv\n",
    "- train_B_preds_svm.csv"
   ]
  },
  {
   "cell_type": "code",
   "execution_count": 13,
   "metadata": {},
   "outputs": [
    {
     "name": "stderr",
     "output_type": "stream",
     "text": [
      "/Library/Frameworks/Python.framework/Versions/3.11/lib/python3.11/site-packages/sklearn/base.py:486: UserWarning: X has feature names, but SVC was fitted without feature names\n",
      "  warnings.warn(\n"
     ]
    },
    {
     "data": {
      "text/html": [
       "<div>\n",
       "<style scoped>\n",
       "    .dataframe tbody tr th:only-of-type {\n",
       "        vertical-align: middle;\n",
       "    }\n",
       "\n",
       "    .dataframe tbody tr th {\n",
       "        vertical-align: top;\n",
       "    }\n",
       "\n",
       "    .dataframe thead th {\n",
       "        text-align: right;\n",
       "    }\n",
       "</style>\n",
       "<table border=\"1\" class=\"dataframe\">\n",
       "  <thead>\n",
       "    <tr style=\"text-align: right;\">\n",
       "      <th></th>\n",
       "      <th>psu_hh_idcode</th>\n",
       "      <th>subjective_poverty_1</th>\n",
       "      <th>subjective_poverty_2</th>\n",
       "      <th>subjective_poverty_3</th>\n",
       "      <th>subjective_poverty_4</th>\n",
       "      <th>subjective_poverty_5</th>\n",
       "      <th>subjective_poverty_6</th>\n",
       "      <th>subjective_poverty_7</th>\n",
       "      <th>subjective_poverty_8</th>\n",
       "      <th>subjective_poverty_9</th>\n",
       "      <th>subjective_poverty_10</th>\n",
       "    </tr>\n",
       "  </thead>\n",
       "  <tbody>\n",
       "    <tr>\n",
       "      <th>0</th>\n",
       "      <td>1_7_1</td>\n",
       "      <td>0.034671</td>\n",
       "      <td>0.081322</td>\n",
       "      <td>0.161742</td>\n",
       "      <td>0.234755</td>\n",
       "      <td>0.220199</td>\n",
       "      <td>0.136774</td>\n",
       "      <td>0.082762</td>\n",
       "      <td>0.038544</td>\n",
       "      <td>0.007791</td>\n",
       "      <td>0.001439</td>\n",
       "    </tr>\n",
       "    <tr>\n",
       "      <th>1</th>\n",
       "      <td>1_8_1</td>\n",
       "      <td>0.037028</td>\n",
       "      <td>0.081293</td>\n",
       "      <td>0.178450</td>\n",
       "      <td>0.240566</td>\n",
       "      <td>0.211600</td>\n",
       "      <td>0.127807</td>\n",
       "      <td>0.077128</td>\n",
       "      <td>0.036956</td>\n",
       "      <td>0.007762</td>\n",
       "      <td>0.001409</td>\n",
       "    </tr>\n",
       "    <tr>\n",
       "      <th>2</th>\n",
       "      <td>1_10_1</td>\n",
       "      <td>0.019763</td>\n",
       "      <td>0.039266</td>\n",
       "      <td>0.083281</td>\n",
       "      <td>0.153959</td>\n",
       "      <td>0.207328</td>\n",
       "      <td>0.205292</td>\n",
       "      <td>0.171624</td>\n",
       "      <td>0.105075</td>\n",
       "      <td>0.012431</td>\n",
       "      <td>0.001982</td>\n",
       "    </tr>\n",
       "  </tbody>\n",
       "</table>\n",
       "</div>"
      ],
      "text/plain": [
       "  psu_hh_idcode  subjective_poverty_1  subjective_poverty_2  \\\n",
       "0         1_7_1              0.034671              0.081322   \n",
       "1         1_8_1              0.037028              0.081293   \n",
       "2        1_10_1              0.019763              0.039266   \n",
       "\n",
       "   subjective_poverty_3  subjective_poverty_4  subjective_poverty_5  \\\n",
       "0              0.161742              0.234755              0.220199   \n",
       "1              0.178450              0.240566              0.211600   \n",
       "2              0.083281              0.153959              0.207328   \n",
       "\n",
       "   subjective_poverty_6  subjective_poverty_7  subjective_poverty_8  \\\n",
       "0              0.136774              0.082762              0.038544   \n",
       "1              0.127807              0.077128              0.036956   \n",
       "2              0.205292              0.171624              0.105075   \n",
       "\n",
       "   subjective_poverty_9  subjective_poverty_10  \n",
       "0              0.007791               0.001439  \n",
       "1              0.007762               0.001409  \n",
       "2              0.012431               0.001982  "
      ]
     },
     "execution_count": 13,
     "metadata": {},
     "output_type": "execute_result"
    }
   ],
   "source": [
    "from joblib import dump, load\n",
    "\n",
    "def stack_predict(X_test):\n",
    "\n",
    "    # Load previously trained models\n",
    "    model_rf = load(\"saved_models/rf_trained_on_filled_A.joblib\")\n",
    "    P_RF = predict_ratings_RF(model_rf, X_test)\n",
    "\n",
    "    model_xgb = load(\"saved_models/xgb_trained_on_filled_A.joblib\")\n",
    "    P_XGB = predict_ratings_XGB(model_xgb, X_test)\n",
    "\n",
    "    model_svm = load(\"saved_models/svm_trained_on_filled_A.joblib\")\n",
    "    P_SVM = predict_ratings_SVM(model_svm, X_test)\n",
    "\n",
    "    # aligned on id column. make sure each row corresponds to the same subject\n",
    "    assert (len(P_RF) == len(P_XGB))\n",
    "    assert (len(P_XGB) == len(P_SVM))\n",
    "    assert all(P_RF['psu_hh_idcode'] == P_XGB['psu_hh_idcode'])\n",
    "    assert all(P_XGB['psu_hh_idcode'] == P_SVM['psu_hh_idcode'])\n",
    "\n",
    "    test_ids = X_test['psu_hh_idcode']\n",
    "    X_stack = pd.concat([\n",
    "        P_RF.drop(columns=['psu_hh_idcode']),\n",
    "        P_XGB.drop(columns=['psu_hh_idcode']), \n",
    "        P_SVM.drop(columns=['psu_hh_idcode'])\n",
    "        ], axis=1)\n",
    "\n",
    "    # final_predictions = stack_model.predict(X_stack)\n",
    "    final_probabilities = stack_model.predict_proba(X_stack)\n",
    "    output_df = pd.DataFrame(final_probabilities, columns=[f'subjective_poverty_{i+1}' for i in range(final_probabilities.shape[1])])\n",
    "    output_df.insert(0, 'psu_hh_idcode', test_ids.values)  # Insert the ID column at the start\n",
    "    return output_df\n",
    "\n",
    "X_test = pd.read_csv(os.path.join(CLEAN_DATA_DIR, \"TEST_INPUT.csv\"))\n",
    "submission_df = stack_predict(X_test)\n",
    "submission_df.to_csv(\"../data/model_result/final_stack_rf_xgb.csv\", index=False)\n",
    "submission_df.head(3)"
   ]
  },
  {
   "cell_type": "code",
   "execution_count": 16,
   "metadata": {},
   "outputs": [
    {
     "data": {
      "text/plain": [
       "1.0"
      ]
     },
     "execution_count": 16,
     "metadata": {},
     "output_type": "execute_result"
    }
   ],
   "source": []
  },
  {
   "cell_type": "markdown",
   "metadata": {},
   "source": [
    "# Trying Stacking with Unfilled Data"
   ]
  },
  {
   "cell_type": "code",
   "execution_count": 44,
   "metadata": {},
   "outputs": [
    {
     "name": "stdout",
     "output_type": "stream",
     "text": [
      "train_A: (4000, 14)\n",
      "train_B: (1334, 14)\n"
     ]
    }
   ],
   "source": [
    "train_unfilled = pd.read_csv(\"../data/clean/TRAIN_MERGED_UNFILLED.csv\")\n",
    "train_A_unfilled, train_B_unfilled = train_test_split(train_unfilled, test_size=0.25, stratify=train_unfilled['subjectivePoverty_rating'], random_state=42)\n",
    "\n",
    "train_A_unfilled_X = train_A.drop(columns=['subjectivePoverty_rating'])\n",
    "train_A_unfilled_y = train_A['subjectivePoverty_rating']\n",
    "\n",
    "train_B_unfilled_X = train_B.drop(columns=['subjectivePoverty_rating'])\n",
    "train_B_unfilled_y = train_B['subjectivePoverty_rating']\n",
    "\n",
    "print(\"train_A:\", train_A_unfilled.shape)\n",
    "print(\"train_B:\", train_B_unfilled.shape)"
   ]
  },
  {
   "cell_type": "code",
   "execution_count": 45,
   "metadata": {},
   "outputs": [
    {
     "name": "stdout",
     "output_type": "stream",
     "text": [
      "Fitting 5 folds for each of 72 candidates, totalling 360 fits\n",
      "Best Parameters: {'max_depth': 5, 'max_features': 'log2', 'min_samples_leaf': 42, 'min_samples_split': 5, 'n_estimators': 200}\n",
      "Best Log Loss Score: 1.9425785952905543\n"
     ]
    },
    {
     "data": {
      "text/html": [
       "<div>\n",
       "<style scoped>\n",
       "    .dataframe tbody tr th:only-of-type {\n",
       "        vertical-align: middle;\n",
       "    }\n",
       "\n",
       "    .dataframe tbody tr th {\n",
       "        vertical-align: top;\n",
       "    }\n",
       "\n",
       "    .dataframe thead th {\n",
       "        text-align: right;\n",
       "    }\n",
       "</style>\n",
       "<table border=\"1\" class=\"dataframe\">\n",
       "  <thead>\n",
       "    <tr style=\"text-align: right;\">\n",
       "      <th></th>\n",
       "      <th>psu_hh_idcode</th>\n",
       "      <th>subjective_poverty_1</th>\n",
       "      <th>subjective_poverty_2</th>\n",
       "      <th>subjective_poverty_3</th>\n",
       "      <th>subjective_poverty_4</th>\n",
       "      <th>subjective_poverty_5</th>\n",
       "      <th>subjective_poverty_6</th>\n",
       "      <th>subjective_poverty_7</th>\n",
       "      <th>subjective_poverty_8</th>\n",
       "      <th>subjective_poverty_9</th>\n",
       "      <th>subjective_poverty_10</th>\n",
       "    </tr>\n",
       "  </thead>\n",
       "  <tbody>\n",
       "    <tr>\n",
       "      <th>0</th>\n",
       "      <td>785_6_1</td>\n",
       "      <td>0.050181</td>\n",
       "      <td>0.102449</td>\n",
       "      <td>0.172558</td>\n",
       "      <td>0.214099</td>\n",
       "      <td>0.207975</td>\n",
       "      <td>0.142176</td>\n",
       "      <td>0.071901</td>\n",
       "      <td>0.032231</td>\n",
       "      <td>0.005211</td>\n",
       "      <td>0.001218</td>\n",
       "    </tr>\n",
       "    <tr>\n",
       "      <th>1</th>\n",
       "      <td>783_8_3</td>\n",
       "      <td>0.063795</td>\n",
       "      <td>0.071783</td>\n",
       "      <td>0.177513</td>\n",
       "      <td>0.213175</td>\n",
       "      <td>0.175172</td>\n",
       "      <td>0.181870</td>\n",
       "      <td>0.084609</td>\n",
       "      <td>0.024932</td>\n",
       "      <td>0.006620</td>\n",
       "      <td>0.000530</td>\n",
       "    </tr>\n",
       "    <tr>\n",
       "      <th>2</th>\n",
       "      <td>561_5_1</td>\n",
       "      <td>0.043903</td>\n",
       "      <td>0.099249</td>\n",
       "      <td>0.184100</td>\n",
       "      <td>0.241651</td>\n",
       "      <td>0.195154</td>\n",
       "      <td>0.133287</td>\n",
       "      <td>0.065821</td>\n",
       "      <td>0.033035</td>\n",
       "      <td>0.003474</td>\n",
       "      <td>0.000325</td>\n",
       "    </tr>\n",
       "  </tbody>\n",
       "</table>\n",
       "</div>"
      ],
      "text/plain": [
       "  psu_hh_idcode  ...  subjective_poverty_10\n",
       "0       785_6_1  ...               0.001218\n",
       "1       783_8_3  ...               0.000530\n",
       "2       561_5_1  ...               0.000325\n",
       "\n",
       "[3 rows x 11 columns]"
      ]
     },
     "execution_count": 45,
     "metadata": {},
     "output_type": "execute_result"
    }
   ],
   "source": [
    "model_rf_unfilled = generate_best_RF_model(train_A_unfilled)\n",
    "\n",
    "P_RF = predict_ratings_RF(model_rf_unfilled, train_B_X)\n",
    "P_RF.to_csv(os.path.join(\"../data/train_B_preds/train_B_preds_unfilled_rf.csv\"), index=False)\n",
    "P_RF.head(3)"
   ]
  },
  {
   "cell_type": "code",
   "execution_count": 46,
   "metadata": {},
   "outputs": [
    {
     "name": "stdout",
     "output_type": "stream",
     "text": [
      "Fitting 5 folds for each of 243 candidates, totalling 1215 fits\n",
      "Best Parameters: {'colsample_bytree': 0.8, 'learning_rate': 0.05, 'max_depth': 1, 'n_estimators': 200, 'subsample': 0.3}\n",
      "Best Log Loss Score: 1.942583005697204\n"
     ]
    },
    {
     "data": {
      "text/html": [
       "<div>\n",
       "<style scoped>\n",
       "    .dataframe tbody tr th:only-of-type {\n",
       "        vertical-align: middle;\n",
       "    }\n",
       "\n",
       "    .dataframe tbody tr th {\n",
       "        vertical-align: top;\n",
       "    }\n",
       "\n",
       "    .dataframe thead th {\n",
       "        text-align: right;\n",
       "    }\n",
       "</style>\n",
       "<table border=\"1\" class=\"dataframe\">\n",
       "  <thead>\n",
       "    <tr style=\"text-align: right;\">\n",
       "      <th></th>\n",
       "      <th>psu_hh_idcode</th>\n",
       "      <th>subjective_poverty_1</th>\n",
       "      <th>subjective_poverty_2</th>\n",
       "      <th>subjective_poverty_3</th>\n",
       "      <th>subjective_poverty_4</th>\n",
       "      <th>subjective_poverty_5</th>\n",
       "      <th>subjective_poverty_6</th>\n",
       "      <th>subjective_poverty_7</th>\n",
       "      <th>subjective_poverty_8</th>\n",
       "      <th>subjective_poverty_9</th>\n",
       "      <th>subjective_poverty_10</th>\n",
       "    </tr>\n",
       "  </thead>\n",
       "  <tbody>\n",
       "    <tr>\n",
       "      <th>0</th>\n",
       "      <td>785_6_1</td>\n",
       "      <td>0.053793</td>\n",
       "      <td>0.113670</td>\n",
       "      <td>0.184411</td>\n",
       "      <td>0.222228</td>\n",
       "      <td>0.193372</td>\n",
       "      <td>0.133627</td>\n",
       "      <td>0.062182</td>\n",
       "      <td>0.030279</td>\n",
       "      <td>0.005036</td>\n",
       "      <td>0.001402</td>\n",
       "    </tr>\n",
       "    <tr>\n",
       "      <th>1</th>\n",
       "      <td>783_8_3</td>\n",
       "      <td>0.143860</td>\n",
       "      <td>0.061194</td>\n",
       "      <td>0.174682</td>\n",
       "      <td>0.182356</td>\n",
       "      <td>0.118766</td>\n",
       "      <td>0.199183</td>\n",
       "      <td>0.084444</td>\n",
       "      <td>0.023572</td>\n",
       "      <td>0.010198</td>\n",
       "      <td>0.001746</td>\n",
       "    </tr>\n",
       "    <tr>\n",
       "      <th>2</th>\n",
       "      <td>561_5_1</td>\n",
       "      <td>0.048000</td>\n",
       "      <td>0.092392</td>\n",
       "      <td>0.177748</td>\n",
       "      <td>0.273673</td>\n",
       "      <td>0.221296</td>\n",
       "      <td>0.105726</td>\n",
       "      <td>0.053300</td>\n",
       "      <td>0.023346</td>\n",
       "      <td>0.003297</td>\n",
       "      <td>0.001223</td>\n",
       "    </tr>\n",
       "  </tbody>\n",
       "</table>\n",
       "</div>"
      ],
      "text/plain": [
       "  psu_hh_idcode  ...  subjective_poverty_10\n",
       "0       785_6_1  ...               0.001402\n",
       "1       783_8_3  ...               0.001746\n",
       "2       561_5_1  ...               0.001223\n",
       "\n",
       "[3 rows x 11 columns]"
      ]
     },
     "execution_count": 46,
     "metadata": {},
     "output_type": "execute_result"
    }
   ],
   "source": [
    "model_xgb_unfilled = generate_best_XGB_model(train_A_unfilled)\n",
    "P_XGB = predict_ratings_XGB(model_xgb_unfilled, train_B_X)\n",
    "P_XGB.head(3)"
   ]
  },
  {
   "cell_type": "code",
   "execution_count": 33,
   "metadata": {},
   "outputs": [
    {
     "name": "stderr",
     "output_type": "stream",
     "text": [
      "/Library/Frameworks/Python.framework/Versions/3.11/lib/python3.11/site-packages/sklearn/linear_model/_logistic.py:1247: FutureWarning: 'multi_class' was deprecated in version 1.5 and will be removed in 1.7. From then on, it will always use 'multinomial'. Leave it to its default value to avoid this warning.\n",
      "  warnings.warn(\n"
     ]
    },
    {
     "name": "stdout",
     "output_type": "stream",
     "text": [
      "Log Loss from Train_B labels: 1.9310\n"
     ]
    }
   ],
   "source": [
    "# aligned on id column. make sure each row corresponds to the same subject\n",
    "assert all(P_RF['psu_hh_idcode'] == P_XGB['psu_hh_idcode'])\n",
    "# assert all(P_XGB['psu_hh_idcode'] == P_SVM['psu_hh_idcode'])\n",
    "\n",
    "X_stack = pd.concat([\n",
    "    P_RF.drop(columns=['psu_hh_idcode']),\n",
    "    P_XGB.drop(columns=['psu_hh_idcode']), \n",
    "    #P_SVM.drop(columns=['psu_hh_idcode'])\n",
    "    ], axis=1)\n",
    "\n",
    "y_stack = train_B_unfilled_y\n",
    "stack_model_unfilled = stack_train(X_stack, y_stack)"
   ]
  },
  {
   "cell_type": "code",
   "execution_count": 34,
   "metadata": {},
   "outputs": [],
   "source": [
    "X_test = pd.read_csv(os.path.join(CLEAN_DATA_DIR, \"TEST_INPUT.csv\"))\n",
    "submission_df = stack_predict(X_test)\n",
    "submission_df.to_csv(\"../data/model_result/final_stack_rf_xgb_unfilled.csv\", index=False)"
   ]
  },
  {
   "cell_type": "code",
   "execution_count": 35,
   "metadata": {},
   "outputs": [
    {
     "data": {
      "text/html": [
       "<div>\n",
       "<style scoped>\n",
       "    .dataframe tbody tr th:only-of-type {\n",
       "        vertical-align: middle;\n",
       "    }\n",
       "\n",
       "    .dataframe tbody tr th {\n",
       "        vertical-align: top;\n",
       "    }\n",
       "\n",
       "    .dataframe thead th {\n",
       "        text-align: right;\n",
       "    }\n",
       "</style>\n",
       "<table border=\"1\" class=\"dataframe\">\n",
       "  <thead>\n",
       "    <tr style=\"text-align: right;\">\n",
       "      <th></th>\n",
       "      <th>psu_hh_idcode</th>\n",
       "      <th>subjective_poverty_1</th>\n",
       "      <th>subjective_poverty_2</th>\n",
       "      <th>subjective_poverty_3</th>\n",
       "      <th>subjective_poverty_4</th>\n",
       "      <th>subjective_poverty_5</th>\n",
       "      <th>subjective_poverty_6</th>\n",
       "      <th>subjective_poverty_7</th>\n",
       "      <th>subjective_poverty_8</th>\n",
       "      <th>subjective_poverty_9</th>\n",
       "      <th>subjective_poverty_10</th>\n",
       "    </tr>\n",
       "  </thead>\n",
       "  <tbody>\n",
       "    <tr>\n",
       "      <th>0</th>\n",
       "      <td>1_7_1</td>\n",
       "      <td>0.034926</td>\n",
       "      <td>0.081487</td>\n",
       "      <td>0.161801</td>\n",
       "      <td>0.234052</td>\n",
       "      <td>0.219760</td>\n",
       "      <td>0.137408</td>\n",
       "      <td>0.082477</td>\n",
       "      <td>0.038709</td>\n",
       "      <td>0.007912</td>\n",
       "      <td>0.001467</td>\n",
       "    </tr>\n",
       "    <tr>\n",
       "      <th>1</th>\n",
       "      <td>1_8_1</td>\n",
       "      <td>0.037256</td>\n",
       "      <td>0.081517</td>\n",
       "      <td>0.178275</td>\n",
       "      <td>0.240017</td>\n",
       "      <td>0.211253</td>\n",
       "      <td>0.128337</td>\n",
       "      <td>0.076902</td>\n",
       "      <td>0.037127</td>\n",
       "      <td>0.007877</td>\n",
       "      <td>0.001439</td>\n",
       "    </tr>\n",
       "    <tr>\n",
       "      <th>2</th>\n",
       "      <td>1_10_1</td>\n",
       "      <td>0.019409</td>\n",
       "      <td>0.039248</td>\n",
       "      <td>0.083486</td>\n",
       "      <td>0.152764</td>\n",
       "      <td>0.205995</td>\n",
       "      <td>0.207236</td>\n",
       "      <td>0.173612</td>\n",
       "      <td>0.103876</td>\n",
       "      <td>0.012397</td>\n",
       "      <td>0.001978</td>\n",
       "    </tr>\n",
       "    <tr>\n",
       "      <th>3</th>\n",
       "      <td>2_3_1</td>\n",
       "      <td>0.028990</td>\n",
       "      <td>0.066281</td>\n",
       "      <td>0.138853</td>\n",
       "      <td>0.200827</td>\n",
       "      <td>0.214893</td>\n",
       "      <td>0.177242</td>\n",
       "      <td>0.108326</td>\n",
       "      <td>0.053365</td>\n",
       "      <td>0.009576</td>\n",
       "      <td>0.001646</td>\n",
       "    </tr>\n",
       "    <tr>\n",
       "      <th>4</th>\n",
       "      <td>3_1_1</td>\n",
       "      <td>0.040487</td>\n",
       "      <td>0.091670</td>\n",
       "      <td>0.184278</td>\n",
       "      <td>0.226500</td>\n",
       "      <td>0.204341</td>\n",
       "      <td>0.134310</td>\n",
       "      <td>0.073386</td>\n",
       "      <td>0.035698</td>\n",
       "      <td>0.007890</td>\n",
       "      <td>0.001440</td>\n",
       "    </tr>\n",
       "  </tbody>\n",
       "</table>\n",
       "</div>"
      ],
      "text/plain": [
       "  psu_hh_idcode  ...  subjective_poverty_10\n",
       "0         1_7_1  ...               0.001467\n",
       "1         1_8_1  ...               0.001439\n",
       "2        1_10_1  ...               0.001978\n",
       "3         2_3_1  ...               0.001646\n",
       "4         3_1_1  ...               0.001440\n",
       "\n",
       "[5 rows x 11 columns]"
      ]
     },
     "execution_count": 35,
     "metadata": {},
     "output_type": "execute_result"
    }
   ],
   "source": [
    "submission_df.head()"
   ]
  },
  {
   "cell_type": "code",
   "execution_count": null,
   "metadata": {},
   "outputs": [],
   "source": []
  }
 ],
 "metadata": {
  "kernelspec": {
   "display_name": "Python 3.11.1 64-bit",
   "language": "python",
   "name": "python3"
  },
  "language_info": {
   "codemirror_mode": {
    "name": "ipython",
    "version": 3
   },
   "file_extension": ".py",
   "mimetype": "text/x-python",
   "name": "python",
   "nbconvert_exporter": "python",
   "pygments_lexer": "ipython3",
   "version": "3.11.1"
  },
  "vscode": {
   "interpreter": {
    "hash": "aee8b7b246df8f9039afb4144a1f6fd8d2ca17a180786b69acc140d282b71a49"
   }
  }
 },
 "nbformat": 4,
 "nbformat_minor": 2
}
