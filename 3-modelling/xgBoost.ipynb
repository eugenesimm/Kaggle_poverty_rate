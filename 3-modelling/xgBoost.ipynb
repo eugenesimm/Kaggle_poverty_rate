{
 "cells": [
  {
   "cell_type": "markdown",
   "metadata": {},
   "source": [
    "# xgBoost"
   ]
  },
  {
   "cell_type": "code",
   "execution_count": 3,
   "metadata": {},
   "outputs": [],
   "source": [
    "import pandas as pd\n",
    "import numpy as np \n",
    "import os \n",
    "\n",
    "CLEAN_DATA_DIR = \"../data/clean/\""
   ]
  },
  {
   "cell_type": "code",
   "execution_count": 31,
   "metadata": {},
   "outputs": [
    {
     "name": "stdout",
     "output_type": "stream",
     "text": [
      "Fitting 5 folds for each of 243 candidates, totalling 1215 fits\n",
      "Best Parameters: {'colsample_bytree': 0.4, 'learning_rate': 0.05, 'max_depth': 5, 'n_estimators': 200, 'subsample': 0.7}\n",
      "Best Log Loss Score: 1.8725519127904497\n",
      "\n",
      "Log Loss from test: 1.7991903277100496\n"
     ]
    }
   ],
   "source": [
    "from sklearn.model_selection import train_test_split\n",
    "\n",
    "data = pd.read_csv(os.path.join(CLEAN_DATA_DIR, \"TRAIN_MERGED_UNFILLED.csv\"))\n",
    "X_train, X_test, y_train, y_test = train_test_split(data.drop(['psu_hh_idcode', 'subjectivePoverty_rating'], axis='columns'), data['subjectivePoverty_rating'], test_size=0.2, random_state=101)\n",
    "\n",
    "y_train = y_train - 1\n",
    "y_test = y_test - 1\n",
    "\n",
    "from sklearn.model_selection import GridSearchCV\n",
    "import xgboost as xgb\n",
    "\n",
    "# Define the parameter grid\n",
    "param_grid = {\n",
    "    'learning_rate': [0.01, 0.05, 0.1],\n",
    "    'max_depth': [1, 3, 5],\n",
    "    'n_estimators': [50, 100, 200],\n",
    "    'subsample': [0.3, 0.5, 0.7],\n",
    "    'colsample_bytree': [0.4, 0.6, 0.8]\n",
    "}\n",
    "\n",
    "# Create the XGBoost model\n",
    "xgb_model = xgb.XGBClassifier(objective='multi:softprob', eval_metric='mlogloss', random_state=101)\n",
    "\n",
    "# Create the GridSearchCV object\n",
    "grid_search = GridSearchCV(\n",
    "    estimator=xgb_model,\n",
    "    param_grid=param_grid,\n",
    "    scoring='neg_log_loss',  # Use log loss as the evaluation metric\n",
    "    cv=5,                    \n",
    "    verbose=1,               \n",
    "    n_jobs=-1                \n",
    ")\n",
    "grid_search.fit(X_train, y_train)\n",
    "\n",
    "print(\"Best Parameters:\", grid_search.best_params_)\n",
    "print(\"Best Log Loss Score:\", -grid_search.best_score_)\n",
    "\n",
    "best_model = grid_search.best_estimator_\n",
    "preds = best_model.predict(X_test)\n",
    "preds_proba = best_model.predict_proba(X_test)\n",
    "\n",
    "# Evaluate log loss on the test data\n",
    "from sklearn.metrics import log_loss\n",
    "print(f\"\\nLog Loss from test: {log_loss(y_test, preds_proba)}\")"
   ]
  },
  {
   "cell_type": "code",
   "execution_count": 30,
   "metadata": {},
   "outputs": [
    {
     "name": "stdout",
     "output_type": "stream",
     "text": [
      "Fitting 5 folds for each of 243 candidates, totalling 1215 fits\n"
     ]
    },
    {
     "name": "stderr",
     "output_type": "stream",
     "text": [
      "/Library/Frameworks/Python.framework/Versions/3.11/lib/python3.11/site-packages/numpy/ma/core.py:2820: RuntimeWarning: invalid value encountered in cast\n",
      "  _data = np.array(data, dtype=dtype, copy=copy,\n"
     ]
    },
    {
     "name": "stdout",
     "output_type": "stream",
     "text": [
      "Best Parameters: {'colsample_bytree': 0.8, 'learning_rate': 0.1, 'max_depth': 3, 'n_estimators': 100, 'subsample': 0.7}\n",
      "Best Log Loss Score: 1.9343637203324355\n",
      "\n",
      "Log Loss from test: 1.9312889728928007\n"
     ]
    }
   ],
   "source": [
    "from sklearn.model_selection import train_test_split\n",
    "\n",
    "data = pd.read_csv(os.path.join(CLEAN_DATA_DIR, \"TRAIN_MERGED_FILLED.csv\"))\n",
    "X_train, X_test, y_train, y_test = train_test_split(data.drop(['psu_hh_idcode', 'subjectivePoverty_rating'], axis='columns'), data['subjectivePoverty_rating'], test_size=0.2, random_state=101)\n",
    "\n",
    "y_train = y_train - 1\n",
    "y_test = y_test - 1\n",
    "\n",
    "from sklearn.model_selection import GridSearchCV\n",
    "import xgboost as xgb\n",
    "\n",
    "# Define the parameter grid\n",
    "param_grid = {\n",
    "    'learning_rate': [0.01, 0.05, 0.1],\n",
    "    'max_depth': [1, 3, 5],\n",
    "    'n_estimators': [50, 100, 20],\n",
    "    'subsample': [0.3, 0.5, 0.7],\n",
    "    'colsample_bytree': [0.4, 0.6, 0.8]\n",
    "}\n",
    "\n",
    "# Create the XGBoost model\n",
    "xgb_model = xgb.XGBClassifier(objective='multi:softprob', eval_metric='mlogloss', random_state=101)\n",
    "\n",
    "# Create the GridSearchCV object\n",
    "grid_search = GridSearchCV(\n",
    "    estimator=xgb_model,\n",
    "    param_grid=param_grid,\n",
    "    scoring='neg_log_loss',  # Use log loss as the evaluation metric\n",
    "    cv=5,                    \n",
    "    verbose=1,               \n",
    "    n_jobs=-1                \n",
    ")\n",
    "grid_search.fit(X_train, y_train)\n",
    "\n",
    "print(\"Best Parameters:\", grid_search.best_params_)\n",
    "print(\"Best Log Loss Score:\", -grid_search.best_score_)\n",
    "\n",
    "best_model_filled = grid_search.best_estimator_\n",
    "preds = best_model_filled.predict(X_test)\n",
    "preds_proba = best_model_filled.predict_proba(X_test)\n",
    "\n",
    "# Evaluate log loss on the test data\n",
    "from sklearn.metrics import log_loss\n",
    "print(f\"\\nLog Loss from test: {log_loss(y_test, preds_proba)}\")"
   ]
  },
  {
   "cell_type": "code",
   "execution_count": 33,
   "metadata": {},
   "outputs": [
    {
     "data": {
      "text/plain": [
       "(1067, 10)"
      ]
     },
     "execution_count": 33,
     "metadata": {},
     "output_type": "execute_result"
    }
   ],
   "source": [
    "preds_proba.shape"
   ]
  },
  {
   "cell_type": "markdown",
   "metadata": {},
   "source": [
    "# Generating Predictions on TEST_INPUT.csv"
   ]
  },
  {
   "cell_type": "code",
   "execution_count": 28,
   "metadata": {},
   "outputs": [
    {
     "data": {
      "text/html": [
       "<div>\n",
       "<style scoped>\n",
       "    .dataframe tbody tr th:only-of-type {\n",
       "        vertical-align: middle;\n",
       "    }\n",
       "\n",
       "    .dataframe tbody tr th {\n",
       "        vertical-align: top;\n",
       "    }\n",
       "\n",
       "    .dataframe thead th {\n",
       "        text-align: right;\n",
       "    }\n",
       "</style>\n",
       "<table border=\"1\" class=\"dataframe\">\n",
       "  <thead>\n",
       "    <tr style=\"text-align: right;\">\n",
       "      <th></th>\n",
       "      <th>psu_hh_idcode</th>\n",
       "      <th>subjective_poverty_1</th>\n",
       "      <th>subjective_poverty_2</th>\n",
       "      <th>subjective_poverty_3</th>\n",
       "      <th>subjective_poverty_4</th>\n",
       "      <th>subjective_poverty_5</th>\n",
       "      <th>subjective_poverty_6</th>\n",
       "      <th>subjective_poverty_7</th>\n",
       "      <th>subjective_poverty_8</th>\n",
       "      <th>subjective_poverty_9</th>\n",
       "      <th>subjective_poverty_10</th>\n",
       "    </tr>\n",
       "  </thead>\n",
       "  <tbody>\n",
       "    <tr>\n",
       "      <th>0</th>\n",
       "      <td>1_7_1</td>\n",
       "      <td>0.042289</td>\n",
       "      <td>0.097317</td>\n",
       "      <td>0.163744</td>\n",
       "      <td>0.236323</td>\n",
       "      <td>0.245543</td>\n",
       "      <td>0.125196</td>\n",
       "      <td>0.054663</td>\n",
       "      <td>0.029011</td>\n",
       "      <td>0.004156</td>\n",
       "      <td>0.001758</td>\n",
       "    </tr>\n",
       "    <tr>\n",
       "      <th>1</th>\n",
       "      <td>1_8_1</td>\n",
       "      <td>0.040327</td>\n",
       "      <td>0.085762</td>\n",
       "      <td>0.194763</td>\n",
       "      <td>0.234413</td>\n",
       "      <td>0.232981</td>\n",
       "      <td>0.113930</td>\n",
       "      <td>0.062237</td>\n",
       "      <td>0.029503</td>\n",
       "      <td>0.004539</td>\n",
       "      <td>0.001545</td>\n",
       "    </tr>\n",
       "    <tr>\n",
       "      <th>2</th>\n",
       "      <td>1_10_1</td>\n",
       "      <td>0.011831</td>\n",
       "      <td>0.025004</td>\n",
       "      <td>0.064346</td>\n",
       "      <td>0.133497</td>\n",
       "      <td>0.281209</td>\n",
       "      <td>0.190594</td>\n",
       "      <td>0.127226</td>\n",
       "      <td>0.135708</td>\n",
       "      <td>0.022629</td>\n",
       "      <td>0.007955</td>\n",
       "    </tr>\n",
       "  </tbody>\n",
       "</table>\n",
       "</div>"
      ],
      "text/plain": [
       "  psu_hh_idcode  subjective_poverty_1  subjective_poverty_2  \\\n",
       "0         1_7_1              0.042289              0.097317   \n",
       "1         1_8_1              0.040327              0.085762   \n",
       "2        1_10_1              0.011831              0.025004   \n",
       "\n",
       "   subjective_poverty_3  subjective_poverty_4  subjective_poverty_5  \\\n",
       "0              0.163744              0.236323              0.245543   \n",
       "1              0.194763              0.234413              0.232981   \n",
       "2              0.064346              0.133497              0.281209   \n",
       "\n",
       "   subjective_poverty_6  subjective_poverty_7  subjective_poverty_8  \\\n",
       "0              0.125196              0.054663              0.029011   \n",
       "1              0.113930              0.062237              0.029503   \n",
       "2              0.190594              0.127226              0.135708   \n",
       "\n",
       "   subjective_poverty_9  subjective_poverty_10  \n",
       "0              0.004156               0.001758  \n",
       "1              0.004539               0.001545  \n",
       "2              0.022629               0.007955  "
      ]
     },
     "execution_count": 28,
     "metadata": {},
     "output_type": "execute_result"
    }
   ],
   "source": [
    "from sklearn.metrics import log_loss\n",
    "\n",
    "def generate_predictions(model, test_file_path=os.path.join(CLEAN_DATA_DIR, \"TEST_INPUT.csv\")):\n",
    "    X_test = pd.read_csv(test_file_path)\n",
    "    test_ids = X_test['psu_hh_idcode']\n",
    "    X_test = X_test.drop(columns=['psu_hh_idcode'])      \n",
    "    preds_proba = model.predict_proba(X_test)\n",
    "\n",
    "    # Create the output DataFrame\n",
    "    output_df = pd.DataFrame(preds_proba, columns=[f'subjective_poverty_{i+1}' for i in range(preds_proba.shape[1])])\n",
    "    output_df.insert(0, 'psu_hh_idcode', test_ids.values)  # Insert the ID column at the start\n",
    "    return output_df\n",
    "\n",
    "output = generate_predictions(best_model, os.path.join(CLEAN_DATA_DIR, \"TEST_INPUT.csv\"))\n",
    "output.to_csv(os.path.join(\"../data/model_result/xgboost_unfilled.csv\"), index=False)\n",
    "output.head(3)"
   ]
  },
  {
   "cell_type": "markdown",
   "metadata": {},
   "source": [
    "Baseline log loss = $-log(\\frac{1}{\\#classes}) = -log(\\frac{1}{10}) = 2.303$"
   ]
  },
  {
   "cell_type": "code",
   "execution_count": null,
   "metadata": {},
   "outputs": [],
   "source": [
    "print(\"unique values in test classes:\", sorted(list(y_test.unique())))\n",
    "print(\"unique values in predicted classes:\", sorted(list(np.unique(preds))))"
   ]
  },
  {
   "cell_type": "code",
   "execution_count": 6,
   "metadata": {},
   "outputs": [
    {
     "name": "stdout",
     "output_type": "stream",
     "text": [
      "subjectivePoverty_rating\n",
      "0    0.035614\n",
      "1    0.087160\n",
      "2    0.164948\n",
      "3    0.192127\n",
      "4    0.206186\n",
      "5    0.157451\n",
      "6    0.086223\n",
      "7    0.057170\n",
      "8    0.010309\n",
      "9    0.002812\n",
      "Name: proportion, dtype: float64\n"
     ]
    }
   ],
   "source": [
    "import matplotlib.pyplot as plt\n",
    "import pandas as pd\n",
    "\n",
    "# Assuming y_test is a Pandas Series\n",
    "\n",
    "# Calculate the proportion of each value\n",
    "value_counts = y_test.value_counts(normalize=True).sort_index() \n",
    "print(value_counts)"
   ]
  },
  {
   "cell_type": "markdown",
   "metadata": {},
   "source": []
  }
 ],
 "metadata": {
  "kernelspec": {
   "display_name": "Python 3.11.1 64-bit",
   "language": "python",
   "name": "python3"
  },
  "language_info": {
   "codemirror_mode": {
    "name": "ipython",
    "version": 3
   },
   "file_extension": ".py",
   "mimetype": "text/x-python",
   "name": "python",
   "nbconvert_exporter": "python",
   "pygments_lexer": "ipython3",
   "version": "3.11.1"
  },
  "vscode": {
   "interpreter": {
    "hash": "aee8b7b246df8f9039afb4144a1f6fd8d2ca17a180786b69acc140d282b71a49"
   }
  }
 },
 "nbformat": 4,
 "nbformat_minor": 2
}
