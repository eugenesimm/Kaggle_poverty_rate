{
 "cells": [
  {
   "cell_type": "markdown",
   "metadata": {},
   "source": [
    "# xgBoost"
   ]
  },
  {
   "cell_type": "code",
   "execution_count": 3,
   "metadata": {},
   "outputs": [],
   "source": [
    "import pandas as pd\n",
    "import numpy as np \n",
    "import os \n",
    "\n",
    "CLEAN_DATA_DIR = \"../data/clean/\""
   ]
  },
  {
   "cell_type": "code",
   "execution_count": 5,
   "metadata": {},
   "outputs": [
    {
     "name": "stdout",
     "output_type": "stream",
     "text": [
      "Fitting 5 folds for each of 1024 candidates, totalling 5120 fits\n"
     ]
    },
    {
     "name": "stderr",
     "output_type": "stream",
     "text": [
      "/Library/Frameworks/Python.framework/Versions/3.11/lib/python3.11/site-packages/numpy/ma/core.py:2820: RuntimeWarning: invalid value encountered in cast\n",
      "  _data = np.array(data, dtype=dtype, copy=copy,\n"
     ]
    },
    {
     "name": "stdout",
     "output_type": "stream",
     "text": [
      "Best Parameters: {'colsample_bytree': 0.6, 'learning_rate': 0.05, 'max_depth': 1, 'n_estimators': 200, 'subsample': 0.5}\n",
      "Best Log Loss Score: 1.9470490347548448\n",
      "\n",
      "Log Loss from test: 1.9298221246999632\n"
     ]
    }
   ],
   "source": [
    "from sklearn.model_selection import train_test_split\n",
    "\n",
    "data = pd.read_csv(os.path.join(CLEAN_DATA_DIR, \"TRAIN_MERGED_UNFILLED.csv\"))\n",
    "X_train, X_test, y_train, y_test = train_test_split(data.drop(['psu_hh_idcode', 'hhid', 'subjectivePoverty_rating'], axis='columns'), data['subjectivePoverty_rating'], test_size=0.2, random_state=101)\n",
    "\n",
    "y_train = y_train - 1\n",
    "y_test = y_test - 1\n",
    "\n",
    "from sklearn.model_selection import GridSearchCV\n",
    "import xgboost as xgb\n",
    "\n",
    "# Define the parameter grid\n",
    "param_grid = {\n",
    "    'learning_rate': [0.01, 0.05, 0.1, 0.2],\n",
    "    'max_depth': [1, 3, 5, 7],\n",
    "    'n_estimators': [50, 100, 200, 500],\n",
    "    'subsample': [0.3, 0.5, 0.7, 0.9],\n",
    "    'colsample_bytree': [0.4, 0.6, 0.8, 1.0]\n",
    "}\n",
    "\n",
    "# Create the XGBoost model\n",
    "xgb_model = xgb.XGBClassifier(objective='multi:softprob', eval_metric='mlogloss', random_state=101)\n",
    "\n",
    "# Create the GridSearchCV object\n",
    "grid_search = GridSearchCV(\n",
    "    estimator=xgb_model,\n",
    "    param_grid=param_grid,\n",
    "    scoring='neg_log_loss',  # Use log loss as the evaluation metric\n",
    "    cv=5,                    \n",
    "    verbose=1,               \n",
    "    n_jobs=-1                \n",
    ")\n",
    "grid_search.fit(X_train, y_train)\n",
    "\n",
    "print(\"Best Parameters:\", grid_search.best_params_)\n",
    "print(\"Best Log Loss Score:\", -grid_search.best_score_)\n",
    "\n",
    "best_model = grid_search.best_estimator_\n",
    "preds = best_model.predict(X_test)\n",
    "preds_proba = best_model.predict_proba(X_test)\n",
    "\n",
    "# Evaluate log loss on the test data\n",
    "from sklearn.metrics import log_loss\n",
    "print(f\"\\nLog Loss from test: {log_loss(y_test, preds_proba)}\")"
   ]
  },
  {
   "cell_type": "code",
   "execution_count": 22,
   "metadata": {},
   "outputs": [
    {
     "data": {
      "text/html": [
       "<div>\n",
       "<style scoped>\n",
       "    .dataframe tbody tr th:only-of-type {\n",
       "        vertical-align: middle;\n",
       "    }\n",
       "\n",
       "    .dataframe tbody tr th {\n",
       "        vertical-align: top;\n",
       "    }\n",
       "\n",
       "    .dataframe thead th {\n",
       "        text-align: right;\n",
       "    }\n",
       "</style>\n",
       "<table border=\"1\" class=\"dataframe\">\n",
       "  <thead>\n",
       "    <tr style=\"text-align: right;\">\n",
       "      <th></th>\n",
       "      <th>psu_hh_idcode</th>\n",
       "      <th>subjective_poverty_1</th>\n",
       "      <th>subjective_poverty_2</th>\n",
       "      <th>subjective_poverty_3</th>\n",
       "      <th>subjective_poverty_4</th>\n",
       "      <th>subjective_poverty_5</th>\n",
       "      <th>subjective_poverty_6</th>\n",
       "      <th>subjective_poverty_7</th>\n",
       "      <th>subjective_poverty_8</th>\n",
       "      <th>subjective_poverty_9</th>\n",
       "      <th>subjective_poverty_10</th>\n",
       "    </tr>\n",
       "  </thead>\n",
       "  <tbody>\n",
       "    <tr>\n",
       "      <th>0</th>\n",
       "      <td>1_7_1</td>\n",
       "      <td>0.042289</td>\n",
       "      <td>0.097317</td>\n",
       "      <td>0.163744</td>\n",
       "      <td>0.236323</td>\n",
       "      <td>0.245543</td>\n",
       "      <td>0.125196</td>\n",
       "      <td>0.054663</td>\n",
       "      <td>0.029011</td>\n",
       "      <td>0.004156</td>\n",
       "      <td>0.001758</td>\n",
       "    </tr>\n",
       "    <tr>\n",
       "      <th>1</th>\n",
       "      <td>1_8_1</td>\n",
       "      <td>0.040327</td>\n",
       "      <td>0.085762</td>\n",
       "      <td>0.194763</td>\n",
       "      <td>0.234413</td>\n",
       "      <td>0.232981</td>\n",
       "      <td>0.113930</td>\n",
       "      <td>0.062237</td>\n",
       "      <td>0.029503</td>\n",
       "      <td>0.004539</td>\n",
       "      <td>0.001545</td>\n",
       "    </tr>\n",
       "    <tr>\n",
       "      <th>2</th>\n",
       "      <td>1_10_1</td>\n",
       "      <td>0.011831</td>\n",
       "      <td>0.025004</td>\n",
       "      <td>0.064346</td>\n",
       "      <td>0.133497</td>\n",
       "      <td>0.281209</td>\n",
       "      <td>0.190594</td>\n",
       "      <td>0.127226</td>\n",
       "      <td>0.135708</td>\n",
       "      <td>0.022629</td>\n",
       "      <td>0.007955</td>\n",
       "    </tr>\n",
       "    <tr>\n",
       "      <th>3</th>\n",
       "      <td>2_3_1</td>\n",
       "      <td>0.027705</td>\n",
       "      <td>0.065376</td>\n",
       "      <td>0.147587</td>\n",
       "      <td>0.198480</td>\n",
       "      <td>0.244810</td>\n",
       "      <td>0.162290</td>\n",
       "      <td>0.111907</td>\n",
       "      <td>0.031666</td>\n",
       "      <td>0.008698</td>\n",
       "      <td>0.001480</td>\n",
       "    </tr>\n",
       "    <tr>\n",
       "      <th>4</th>\n",
       "      <td>3_1_1</td>\n",
       "      <td>0.053478</td>\n",
       "      <td>0.092919</td>\n",
       "      <td>0.185346</td>\n",
       "      <td>0.197593</td>\n",
       "      <td>0.242531</td>\n",
       "      <td>0.130524</td>\n",
       "      <td>0.065278</td>\n",
       "      <td>0.025638</td>\n",
       "      <td>0.005289</td>\n",
       "      <td>0.001405</td>\n",
       "    </tr>\n",
       "  </tbody>\n",
       "</table>\n",
       "</div>"
      ],
      "text/plain": [
       "  psu_hh_idcode  subjective_poverty_1  subjective_poverty_2  \\\n",
       "0         1_7_1              0.042289              0.097317   \n",
       "1         1_8_1              0.040327              0.085762   \n",
       "2        1_10_1              0.011831              0.025004   \n",
       "3         2_3_1              0.027705              0.065376   \n",
       "4         3_1_1              0.053478              0.092919   \n",
       "\n",
       "   subjective_poverty_3  subjective_poverty_4  subjective_poverty_5  \\\n",
       "0              0.163744              0.236323              0.245543   \n",
       "1              0.194763              0.234413              0.232981   \n",
       "2              0.064346              0.133497              0.281209   \n",
       "3              0.147587              0.198480              0.244810   \n",
       "4              0.185346              0.197593              0.242531   \n",
       "\n",
       "   subjective_poverty_6  subjective_poverty_7  subjective_poverty_8  \\\n",
       "0              0.125196              0.054663              0.029011   \n",
       "1              0.113930              0.062237              0.029503   \n",
       "2              0.190594              0.127226              0.135708   \n",
       "3              0.162290              0.111907              0.031666   \n",
       "4              0.130524              0.065278              0.025638   \n",
       "\n",
       "   subjective_poverty_9  subjective_poverty_10  \n",
       "0              0.004156               0.001758  \n",
       "1              0.004539               0.001545  \n",
       "2              0.022629               0.007955  \n",
       "3              0.008698               0.001480  \n",
       "4              0.005289               0.001405  "
      ]
     },
     "execution_count": 22,
     "metadata": {},
     "output_type": "execute_result"
    }
   ],
   "source": [
    "from sklearn.metrics import log_loss\n",
    "\n",
    "def generate_predictions(model, test_file_path=os.path.join(CLEAN_DATA_DIR, \"TEST_INPUT.csv\")):\n",
    "    X_test = pd.read_csv(test_file_path)\n",
    "    test_ids = X_test['psu_hh_idcode']\n",
    "    X_test = X_test.drop(columns=['psu_hh_idcode'])      \n",
    "    preds_proba = model.predict_proba(X_test)\n",
    "\n",
    "    # Create the output DataFrame\n",
    "    output_df = pd.DataFrame(preds_proba, columns=[f'subjective_poverty_{i+1}' for i in range(preds_proba.shape[1])])\n",
    "    output_df.insert(0, 'psu_hh_idcode', test_ids.values)  # Insert the ID column at the start\n",
    "    return output_df\n",
    "\n",
    "output = generate_predictions(best_model, os.path.join(CLEAN_DATA_DIR, \"TEST_INPUT.csv\"))\n",
    "output.to_csv(os.path.join(\"../data/model_result/xgboost_predictions.csv\"), index=False)\n"
   ]
  },
  {
   "cell_type": "code",
   "execution_count": 13,
   "metadata": {},
   "outputs": [
    {
     "name": "stdout",
     "output_type": "stream",
     "text": [
      "Fitting 5 folds for each of 1024 candidates, totalling 5120 fits\n",
      "Best Parameters: {'colsample_bytree': 1.0, 'learning_rate': 0.05, 'max_depth': 1, 'n_estimators': 200, 'subsample': 0.3}\n",
      "Best Log Loss Score: 1.9381333016168707\n"
     ]
    },
    {
     "ename": "ValueError",
     "evalue": "feature_names mismatch: ['q02', 'q03', 'q05', 'q09', 'q23', 'Q01', 'Q03', 'Q06', 'Q07', 'Q08', 'Q11', 'Q19'] ['q02', 'q03', 'q09', 'q05', 'q23', 'Q01', 'Q03', 'Q06', 'Q07', 'Q08', 'Q11', 'Q19']",
     "output_type": "error",
     "traceback": [
      "\u001b[1;31m---------------------------------------------------------------------------\u001b[0m",
      "\u001b[1;31mValueError\u001b[0m                                Traceback (most recent call last)",
      "Cell \u001b[1;32mIn[13], line 61\u001b[0m\n\u001b[0;32m     58\u001b[0m test_ids \u001b[38;5;241m=\u001b[39m test_data[\u001b[38;5;124m'\u001b[39m\u001b[38;5;124mpsu_hh_idcode\u001b[39m\u001b[38;5;124m'\u001b[39m]\n\u001b[0;32m     60\u001b[0m \u001b[38;5;66;03m# Predict probabilities for the test dataset\u001b[39;00m\n\u001b[1;32m---> 61\u001b[0m preds_proba \u001b[38;5;241m=\u001b[39m best_model\u001b[38;5;241m.\u001b[39mpredict_proba(test_X)\n\u001b[0;32m     63\u001b[0m \u001b[38;5;66;03m# Evaluate log loss on the test data\u001b[39;00m\n\u001b[0;32m     64\u001b[0m \u001b[38;5;66;03m# print(f\"\\nLog Loss from test: {log_loss(y_test, preds_proba)}\")\u001b[39;00m\n\u001b[0;32m     65\u001b[0m \n\u001b[0;32m     66\u001b[0m \u001b[38;5;66;03m# Create the output DataFrame\u001b[39;00m\n\u001b[0;32m     67\u001b[0m output_df \u001b[38;5;241m=\u001b[39m pd\u001b[38;5;241m.\u001b[39mDataFrame(preds_proba, columns\u001b[38;5;241m=\u001b[39m[\u001b[38;5;124mf\u001b[39m\u001b[38;5;124m'\u001b[39m\u001b[38;5;124msubjectivePoverty_rating_\u001b[39m\u001b[38;5;132;01m{\u001b[39;00mi\u001b[38;5;241m+\u001b[39m\u001b[38;5;241m1\u001b[39m\u001b[38;5;132;01m}\u001b[39;00m\u001b[38;5;124m'\u001b[39m \u001b[38;5;28;01mfor\u001b[39;00m i \u001b[38;5;129;01min\u001b[39;00m \u001b[38;5;28mrange\u001b[39m(preds_proba\u001b[38;5;241m.\u001b[39mshape[\u001b[38;5;241m1\u001b[39m])])\n",
      "File \u001b[1;32m~\\AppData\\Roaming\\Python\\Python311\\site-packages\\xgboost\\sklearn.py:1644\u001b[0m, in \u001b[0;36mXGBClassifier.predict_proba\u001b[1;34m(self, X, validate_features, base_margin, iteration_range)\u001b[0m\n\u001b[0;32m   1642\u001b[0m     class_prob \u001b[38;5;241m=\u001b[39m softmax(raw_predt, axis\u001b[38;5;241m=\u001b[39m\u001b[38;5;241m1\u001b[39m)\n\u001b[0;32m   1643\u001b[0m     \u001b[38;5;28;01mreturn\u001b[39;00m class_prob\n\u001b[1;32m-> 1644\u001b[0m class_probs \u001b[38;5;241m=\u001b[39m \u001b[38;5;28msuper\u001b[39m()\u001b[38;5;241m.\u001b[39mpredict(\n\u001b[0;32m   1645\u001b[0m     X\u001b[38;5;241m=\u001b[39mX,\n\u001b[0;32m   1646\u001b[0m     validate_features\u001b[38;5;241m=\u001b[39mvalidate_features,\n\u001b[0;32m   1647\u001b[0m     base_margin\u001b[38;5;241m=\u001b[39mbase_margin,\n\u001b[0;32m   1648\u001b[0m     iteration_range\u001b[38;5;241m=\u001b[39miteration_range,\n\u001b[0;32m   1649\u001b[0m )\n\u001b[0;32m   1650\u001b[0m \u001b[38;5;28;01mreturn\u001b[39;00m _cls_predict_proba(\u001b[38;5;28mself\u001b[39m\u001b[38;5;241m.\u001b[39mn_classes_, class_probs, np\u001b[38;5;241m.\u001b[39mvstack)\n",
      "File \u001b[1;32m~\\AppData\\Roaming\\Python\\Python311\\site-packages\\xgboost\\sklearn.py:1186\u001b[0m, in \u001b[0;36mXGBModel.predict\u001b[1;34m(self, X, output_margin, validate_features, base_margin, iteration_range)\u001b[0m\n\u001b[0;32m   1184\u001b[0m \u001b[38;5;28;01mif\u001b[39;00m \u001b[38;5;28mself\u001b[39m\u001b[38;5;241m.\u001b[39m_can_use_inplace_predict():\n\u001b[0;32m   1185\u001b[0m     \u001b[38;5;28;01mtry\u001b[39;00m:\n\u001b[1;32m-> 1186\u001b[0m         predts \u001b[38;5;241m=\u001b[39m \u001b[38;5;28mself\u001b[39m\u001b[38;5;241m.\u001b[39mget_booster()\u001b[38;5;241m.\u001b[39minplace_predict(\n\u001b[0;32m   1187\u001b[0m             data\u001b[38;5;241m=\u001b[39mX,\n\u001b[0;32m   1188\u001b[0m             iteration_range\u001b[38;5;241m=\u001b[39miteration_range,\n\u001b[0;32m   1189\u001b[0m             predict_type\u001b[38;5;241m=\u001b[39m\u001b[38;5;124m\"\u001b[39m\u001b[38;5;124mmargin\u001b[39m\u001b[38;5;124m\"\u001b[39m \u001b[38;5;28;01mif\u001b[39;00m output_margin \u001b[38;5;28;01melse\u001b[39;00m \u001b[38;5;124m\"\u001b[39m\u001b[38;5;124mvalue\u001b[39m\u001b[38;5;124m\"\u001b[39m,\n\u001b[0;32m   1190\u001b[0m             missing\u001b[38;5;241m=\u001b[39m\u001b[38;5;28mself\u001b[39m\u001b[38;5;241m.\u001b[39mmissing,\n\u001b[0;32m   1191\u001b[0m             base_margin\u001b[38;5;241m=\u001b[39mbase_margin,\n\u001b[0;32m   1192\u001b[0m             validate_features\u001b[38;5;241m=\u001b[39mvalidate_features,\n\u001b[0;32m   1193\u001b[0m         )\n\u001b[0;32m   1194\u001b[0m         \u001b[38;5;28;01mif\u001b[39;00m _is_cupy_alike(predts):\n\u001b[0;32m   1195\u001b[0m             \u001b[38;5;28;01mimport\u001b[39;00m \u001b[38;5;21;01mcupy\u001b[39;00m  \u001b[38;5;66;03m# pylint: disable=import-error\u001b[39;00m\n",
      "File \u001b[1;32m~\\AppData\\Roaming\\Python\\Python311\\site-packages\\xgboost\\core.py:2510\u001b[0m, in \u001b[0;36mBooster.inplace_predict\u001b[1;34m(self, data, iteration_range, predict_type, missing, validate_features, base_margin, strict_shape)\u001b[0m\n\u001b[0;32m   2508\u001b[0m     data, fns, _ \u001b[38;5;241m=\u001b[39m _transform_pandas_df(data, enable_categorical)\n\u001b[0;32m   2509\u001b[0m     \u001b[38;5;28;01mif\u001b[39;00m validate_features:\n\u001b[1;32m-> 2510\u001b[0m         \u001b[38;5;28mself\u001b[39m\u001b[38;5;241m.\u001b[39m_validate_features(fns)\n\u001b[0;32m   2511\u001b[0m \u001b[38;5;28;01mif\u001b[39;00m _is_list(data) \u001b[38;5;129;01mor\u001b[39;00m _is_tuple(data):\n\u001b[0;32m   2512\u001b[0m     data \u001b[38;5;241m=\u001b[39m np\u001b[38;5;241m.\u001b[39marray(data)\n",
      "File \u001b[1;32m~\\AppData\\Roaming\\Python\\Python311\\site-packages\\xgboost\\core.py:3075\u001b[0m, in \u001b[0;36mBooster._validate_features\u001b[1;34m(self, feature_names)\u001b[0m\n\u001b[0;32m   3069\u001b[0m \u001b[38;5;28;01mif\u001b[39;00m my_missing:\n\u001b[0;32m   3070\u001b[0m     msg \u001b[38;5;241m+\u001b[39m\u001b[38;5;241m=\u001b[39m (\n\u001b[0;32m   3071\u001b[0m         \u001b[38;5;124m\"\u001b[39m\u001b[38;5;130;01m\\n\u001b[39;00m\u001b[38;5;124mtraining data did not have the following fields: \u001b[39m\u001b[38;5;124m\"\u001b[39m\n\u001b[0;32m   3072\u001b[0m         \u001b[38;5;241m+\u001b[39m \u001b[38;5;124m\"\u001b[39m\u001b[38;5;124m, \u001b[39m\u001b[38;5;124m\"\u001b[39m\u001b[38;5;241m.\u001b[39mjoin(\u001b[38;5;28mstr\u001b[39m(s) \u001b[38;5;28;01mfor\u001b[39;00m s \u001b[38;5;129;01min\u001b[39;00m my_missing)\n\u001b[0;32m   3073\u001b[0m     )\n\u001b[1;32m-> 3075\u001b[0m \u001b[38;5;28;01mraise\u001b[39;00m \u001b[38;5;167;01mValueError\u001b[39;00m(msg\u001b[38;5;241m.\u001b[39mformat(\u001b[38;5;28mself\u001b[39m\u001b[38;5;241m.\u001b[39mfeature_names, feature_names))\n",
      "\u001b[1;31mValueError\u001b[0m: feature_names mismatch: ['q02', 'q03', 'q05', 'q09', 'q23', 'Q01', 'Q03', 'Q06', 'Q07', 'Q08', 'Q11', 'Q19'] ['q02', 'q03', 'q09', 'q05', 'q23', 'Q01', 'Q03', 'Q06', 'Q07', 'Q08', 'Q11', 'Q19']"
     ]
    }
   ],
   "source": [
    "# Load the dataset\n",
    "data = pd.read_csv(os.path.join(CLEAN_DATA_DIR, \"TRAIN_MERGED_UNFILLED.csv\"))\n",
    "id_column = data['psu_hh_idcode']\n",
    "\n",
    "# Prepare the training and testing datasets\n",
    "                    \n",
    "# X_train, X_test, y_train, y_test, test_ids = train_test_split(\n",
    "#     data.drop(['psu_hh_idcode', 'hhid', 'subjectivePoverty_rating'], axis='columns'),\n",
    "#     data['subjectivePoverty_rating'],\n",
    "#     id_column,\n",
    "#     test_size=0,\n",
    "#     random_state=101\n",
    "# )\n",
    "\n",
    "# Use the entire dataset for training\n",
    "X_train = data.drop(['psu_hh_idcode', 'hhid', 'subjectivePoverty_rating'], axis='columns')\n",
    "y_train = data['subjectivePoverty_rating'] - 1 # Adjust the target variable to start from 0 (for multi-class classification)\n",
    "\n",
    "# Define the parameter grid\n",
    "param_grid = {\n",
    "    'learning_rate': [0.01, 0.05, 0.1, 0.2],\n",
    "    'max_depth': [1, 3, 5, 7],\n",
    "    'n_estimators': [50, 100, 200, 500],\n",
    "    'subsample': [0.3, 0.5, 0.7, 0.9],\n",
    "    'colsample_bytree': [0.4, 0.6, 0.8, 1.0]\n",
    "}\n",
    "\n",
    "# Create the XGBoost model\n",
    "xgb_model = xgb.XGBClassifier(objective='multi:softprob', eval_metric='mlogloss', random_state=101)\n",
    "\n",
    "grid_search = GridSearchCV(\n",
    "    estimator=xgb_model,\n",
    "    param_grid=param_grid,\n",
    "    scoring='neg_log_loss',  # Use log loss as the evaluation metric\n",
    "    cv=5,\n",
    "    verbose=1,\n",
    "    n_jobs=-1\n",
    ")\n",
    "\n",
    "# Perform gridsearch to find the best model\n",
    "grid_search.fit(X_train, y_train)\n",
    "\n",
    "# Get the best model and its parameters\n",
    "print(\"Best Parameters:\", grid_search.best_params_)\n",
    "print(\"Best Log Loss Score:\", -grid_search.best_score_)\n",
    "\n",
    "best_model = grid_search.best_estimator_\n",
    "\n",
    "# Predicting on actual test data\n",
    "\n",
    "test_data = pd.read_csv(os.path.join(CLEAN_DATA_DIR, \"TEST_INPUT.csv\"))\n",
    "test_X = test_data.drop(columns=['psu_hh_idcode'])\n",
    "test_ids = test_data['psu_hh_idcode']\n",
    "\n",
    "# reorder cols in teest_dat for alignment with training data\n",
    "\n",
    "# test_data.to_csv(os.path.join(CLEAN_DATA_DIR, TE))\n",
    "# Predict probabilities for the test dataset\n",
    "preds_proba = best_model.predict_proba(test_X)\n",
    "\n",
    "# Evaluate log loss on the test data\n",
    "# print(f\"\\nLog Loss from test: {log_loss(y_test, preds_proba)}\")\n",
    "\n",
    "# Create the output DataFrame\n",
    "output_df = pd.DataFrame(preds_proba, columns=[f'subjectivePoverty_rating_{i+1}' for i in range(preds_proba.shape[1])])\n",
    "output_df.insert(0, 'psu_hh_idcode', test_ids.values)  # Insert the ID column at the start\n",
    "\n",
    "# Save to CSV\n",
    "output_file = \"test_predictions.csv\"\n",
    "output_df.head()\n",
    "# output_df.to_csv(output_file, index=False)\n",
    "# print(f\"Predictions saved to {output_file}\")\n"
   ]
  },
  {
   "cell_type": "markdown",
   "metadata": {},
   "source": [
    "Baseline log loss = $-log(\\frac{1}{\\#classes}) = -log(\\frac{1}{10}) = 2.303$"
   ]
  },
  {
   "cell_type": "code",
   "execution_count": null,
   "metadata": {},
   "outputs": [],
   "source": [
    "print(\"unique values in test classes:\", sorted(list(y_test.unique())))\n",
    "print(\"unique values in predicted classes:\", sorted(list(np.unique(preds))))"
   ]
  },
  {
   "cell_type": "code",
   "execution_count": 6,
   "metadata": {},
   "outputs": [
    {
     "name": "stdout",
     "output_type": "stream",
     "text": [
      "subjectivePoverty_rating\n",
      "0    0.035614\n",
      "1    0.087160\n",
      "2    0.164948\n",
      "3    0.192127\n",
      "4    0.206186\n",
      "5    0.157451\n",
      "6    0.086223\n",
      "7    0.057170\n",
      "8    0.010309\n",
      "9    0.002812\n",
      "Name: proportion, dtype: float64\n"
     ]
    }
   ],
   "source": [
    "import matplotlib.pyplot as plt\n",
    "import pandas as pd\n",
    "\n",
    "# Assuming y_test is a Pandas Series\n",
    "\n",
    "# Calculate the proportion of each value\n",
    "value_counts = y_test.value_counts(normalize=True).sort_index() \n",
    "print(value_counts)"
   ]
  },
  {
   "cell_type": "markdown",
   "metadata": {},
   "source": []
  }
 ],
 "metadata": {
  "kernelspec": {
   "display_name": "Python 3.11.1 64-bit",
   "language": "python",
   "name": "python3"
  },
  "language_info": {
   "codemirror_mode": {
    "name": "ipython",
    "version": 3
   },
   "file_extension": ".py",
   "mimetype": "text/x-python",
   "name": "python",
   "nbconvert_exporter": "python",
   "pygments_lexer": "ipython3",
   "version": "3.11.1"
  },
  "vscode": {
   "interpreter": {
    "hash": "aee8b7b246df8f9039afb4144a1f6fd8d2ca17a180786b69acc140d282b71a49"
   }
  }
 },
 "nbformat": 4,
 "nbformat_minor": 2
}
