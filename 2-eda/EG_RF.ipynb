{
 "cells": [
  {
   "cell_type": "code",
   "execution_count": 1,
   "metadata": {},
   "outputs": [],
   "source": [
    "import os \n",
    "import pandas as pd \n",
    "import numpy as np\n",
    "\n",
    "from sklearn.tree import DecisionTreeClassifier\n",
    "from sklearn.ensemble import RandomForestClassifier\n",
    "from sklearn.datasets import load_breast_cancer\n",
    "from sklearn.model_selection import train_test_split\n",
    "from sklearn.metrics import accuracy_score, make_scorer, log_loss, classification_report\n",
    "from sklearn.model_selection import GridSearchCV\n",
    "from sklearn.svm import SVC\n",
    "from sklearn.preprocessing import StandardScaler, OneHotEncoder\n",
    "from sklearn.impute import KNNImputer\n",
    "\n",
    "CLEAN_DATA_DIR = \"../data/clean/\"\n",
    "RESULT_DATA_DIR = \"../data/model_result/\""
   ]
  },
  {
   "cell_type": "markdown",
   "metadata": {},
   "source": [
    "# Train model with unfilled train data"
   ]
  },
  {
   "cell_type": "code",
   "execution_count": null,
   "metadata": {},
   "outputs": [],
   "source": [
    "train_unfilled = pd.read_csv(os.path.join(CLEAN_DATA_DIR, \"TRAIN_MERGED_UNFILLED.csv\"))\n",
    "# print(train_unfilled.head())\n",
    "\n",
    "y = train_unfilled['subjectivePoverty_rating']\n",
    "print(y)\n",
    "\n",
    "# y = pd.get_dummies(train_unfilled[\"subjectivePoverty_rating\"], prefix=\"rating\").astype(int)\n",
    "# print(y)\n",
    "\n",
    "feature_cols = list(train_unfilled.columns.difference(['psu_hh_idcode', 'hhid', 'subjectivePoverty_rating']))\n",
    "X = train_unfilled[feature_cols]\n",
    "# print(X.head())\n",
    "train_x, test_x, train_y, test_y = train_test_split(X, y, test_size = 0.2, random_state = 42)\n",
    "print(train_x.shape, test_x.shape, train_y.shape, test_y.shape)"
   ]
  },
  {
   "cell_type": "markdown",
   "metadata": {},
   "source": [
    "### Hyeprparameter tuning with grid search"
   ]
  },
  {
   "cell_type": "code",
   "execution_count": null,
   "metadata": {},
   "outputs": [],
   "source": [
    "params = {\n",
    "    'n_estimators':[100, 200, 500, 700],\n",
    "    'max_features': ['sqrt', 'log2'],\n",
    "    'max_depth': [4, 5, 6],\n",
    "    'min_samples_split': [2, 5, 50],\n",
    "    'min_samples_leaf': [35, 42, 50],     # 1% of train_x size\n",
    "}\n",
    "\n",
    "log_loss_scorer = make_scorer(log_loss, greater_is_better=False, needs_proba=True)\n",
    "\n",
    "grid_search = GridSearchCV(RandomForestClassifier(), params, cv=5, scoring=log_loss_scorer, return_train_score=True)\n",
    "# Fit the model\n",
    "grid_search.fit(train_x, train_y)"
   ]
  },
  {
   "cell_type": "markdown",
   "metadata": {},
   "source": [
    "### Get the prediction probability "
   ]
  },
  {
   "cell_type": "code",
   "execution_count": null,
   "metadata": {},
   "outputs": [],
   "source": [
    "\n",
    "best_model = grid_search.best_estimator_\n",
    "y_val_pred_proba = best_model.predict_proba(test_x)\n",
    "\n",
    "best_params = grid_search.best_params_\n",
    "print(\"Best Parameters:\", best_params)\n",
    "\n",
    "val_log_loss = log_loss(test_y, y_val_pred_proba, labels=best_model.classes_)\n",
    "print(\"Validation Log Loss:\", val_log_loss)\n",
    "\n",
    "\n",
    "# Stroe the grid search results\n",
    "results = grid_search.cv_results_\n",
    "log_loss_scores = results['mean_test_score']  # Mean log loss (negative)\n",
    "hyperparameters = results['params'] \n",
    "\n",
    "results_df = pd.DataFrame(hyperparameters)\n",
    "results_df['Mean Log Loss'] = -log_loss_scores  # Convert back to positive (lower is better)\n",
    "\n",
    "# Display the results sorted by Log Loss\n",
    "results_df = results_df.sort_values(by='Mean Log Loss', ascending=True)\n",
    "results_df.to_csv(os.path.join(RESULT_DATA_DIR, \"rf_unfillled.csv\"), index=False)\n"
   ]
  },
  {
   "cell_type": "markdown",
   "metadata": {},
   "source": [
    "### Class with highest prob"
   ]
  },
  {
   "cell_type": "code",
   "execution_count": null,
   "metadata": {},
   "outputs": [
    {
     "data": {
      "text/plain": [
       "array([3., 4., 5.])"
      ]
     },
     "metadata": {},
     "output_type": "display_data"
    }
   ],
   "source": [
    "y_val_pred_proba = best_model.predict(test_x)\n",
    "np.unique(y_val_pred_proba)"
   ]
  }
 ],
 "metadata": {
  "kernelspec": {
   "display_name": "Python 3",
   "language": "python",
   "name": "python3"
  },
  "language_info": {
   "codemirror_mode": {
    "name": "ipython",
    "version": 3
   },
   "file_extension": ".py",
   "mimetype": "text/x-python",
   "name": "python",
   "nbconvert_exporter": "python",
   "pygments_lexer": "ipython3",
   "version": "3.12.1"
  }
 },
 "nbformat": 4,
 "nbformat_minor": 2
}
