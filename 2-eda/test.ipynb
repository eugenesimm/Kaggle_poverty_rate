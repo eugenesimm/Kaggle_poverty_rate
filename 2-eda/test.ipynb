{
 "cells": [
  {
   "cell_type": "code",
   "execution_count": 10,
   "metadata": {},
   "outputs": [],
   "source": [
    "from sklearn.svm import SVC\n",
    "from sklearn.model_selection import GridSearchCV\n",
    "from sklearn.metrics import log_loss, make_scorer\n",
    "from sklearn.preprocessing import StandardScaler, OneHotEncoder\n",
    "from sklearn.model_selection import train_test_split\n",
    "import pandas as pd\n",
    "import numpy as np\n",
    "import os\n",
    "import pandas as pd\n",
    "CLEAN_DATA_DIR = \"../data/clean/\""
   ]
  },
  {
   "cell_type": "code",
   "execution_count": 84,
   "metadata": {},
   "outputs": [],
   "source": [
    "RESULT_DATA_DIR = \"../data/model_result/\"\n",
    "train_data = pd.read_csv(os.path.join(CLEAN_DATA_DIR, \"TRAIN_MERGED_UNFILLED.csv\"))\n",
    "columns_to_fill = ['Q06', 'Q07', 'Q08', 'Q11', 'Q19'\n",
    "                   ]\n",
    "train_data[columns_to_fill] = train_data[columns_to_fill].fillna(-1)\n",
    "train_data = train_data.drop(columns=['hhid'])\n",
    "\n",
    "train_A, train_B = train_test_split(train_data, test_size=0.25, stratify=train_data['subjectivePoverty_rating'], random_state=42)\n"
   ]
  },
  {
   "cell_type": "code",
   "execution_count": null,
   "metadata": {},
   "outputs": [],
   "source": [
    "\n",
    "\n",
    "def predict_ratings_SVM(train_data, test_data):\n",
    "    missing_columns = [col for col in train_data.columns if -1 in train_data[col].values]\n",
    "    # One-hot encode categorical columns\n",
    "    encoder = OneHotEncoder(sparse_output=False, drop=None)\n",
    "    encoded = encoder.fit_transform(train_data[missing_columns])\n",
    "\n",
    "    # Convert to DataFrame and combine with numerical features\n",
    "    encoded_df = pd.DataFrame(encoded, columns=encoder.get_feature_names_out(missing_columns), index=train_data.index)\n",
    "    numerical_df = train_data.drop(columns=missing_columns)\n",
    "\n",
    "    # Combine numerical and encoded categorical data\n",
    "    processed_df = pd.concat([numerical_df, encoded_df], axis=1)\n",
    "    y = processed_df['subjectivePoverty_rating']\n",
    "\n",
    "  \n",
    "\n",
    "    feature_cols = list(processed_df.columns.difference(['psu_hh_idcode', 'subjectivePoverty_rating']))\n",
    "    X = processed_df[feature_cols]\n",
    "  \n",
    "    # Scale the features\n",
    "    scaler = StandardScaler()\n",
    "    X_train_scaled = scaler.fit_transform(X)\n",
    "    \n",
    "    # Define the hyperparameter grid\n",
    "    param_grid = {\n",
    "        'C': [10, 100],\n",
    "        'gamma': [0.1, 0.01],\n",
    "        'kernel': ['rbf']\n",
    "    }\n",
    "    \n",
    "    # Set up GridSearchCV\n",
    "    log_loss_scorer = make_scorer(log_loss, greater_is_better=False, needs_proba=True)\n",
    "    grid_search = GridSearchCV(\n",
    "        estimator=SVC(probability=True, random_state=42),\n",
    "        param_grid=param_grid,\n",
    "        scoring=log_loss_scorer,\n",
    "        cv=5,\n",
    "    )\n",
    "    \n",
    "    # Fit the model\n",
    "    grid_search.fit(X_train_scaled, y)\n",
    "    encoded_x_cols = X.columns\n",
    "\n",
    "\n",
    "    test_input_x = test_data.drop(columns=['psu_hh_idcode', 'subjectivePoverty_rating'])\n",
    "    missing_columns = [col for col in test_input_x.columns if -1 in test_input_x[col].values]\n",
    "\n",
    "    # One-hot encode categorical columns\n",
    "    encoder = OneHotEncoder(sparse_output=False, drop=None)\n",
    "    encoded = encoder.fit_transform(test_input_x[missing_columns])\n",
    "\n",
    "    # Convert to DataFrame and combine with numerical features\n",
    "    encoded_df = pd.DataFrame(encoded, columns=encoder.get_feature_names_out(missing_columns), index=test_input_x.index)\n",
    "    numerical_df = test_input_x.drop(columns=missing_columns)\n",
    "\n",
    "    # Combine numerical and encoded categorical data\n",
    "    processed_test_input_x = pd.concat([numerical_df, encoded_df], axis=1)\n",
    "\n",
    "    print('processed_test_input_x')\n",
    "    display(processed_test_input_x)\n",
    "\n",
    "    # Step 2: Reorder df2 columns to match df1\n",
    "    test_input_x = processed_test_input_x.reindex(columns=[col for col in encoded_x_cols if col in processed_test_input_x.columns])\n",
    "\n",
    "    # Step 3: Add the extra columns from df1 that are missing in df2\n",
    "    for col in encoded_x_cols:\n",
    "        if col not in test_input_x.columns:\n",
    "            test_input_x[col] = 0  # Assign 0\n",
    "    # Step 4: Reorder df2 to exactly match df1's column order\n",
    "    test_input_x = test_input_x[encoded_x_cols]\n",
    "\n",
    "    test_input_x_trans = scaler.transform(test_input_x)\n",
    "\n",
    "    id = test_data['psu_hh_idcode']\n",
    "    y_val_pred_proba = grid_search.predict_proba(test_input_x)\n",
    "\n",
    "    column_names = [f\"subjective_poverty_{i}\" for i in range(1, 11)]\n",
    "    probs = pd.DataFrame(y_val_pred_proba, columns=column_names)\n",
    "    submission = pd.concat([id, probs], axis=1)\n",
    "    return submission"
   ]
  },
  {
   "cell_type": "code",
   "execution_count": 90,
   "metadata": {},
   "outputs": [
    {
     "name": "stderr",
     "output_type": "stream",
     "text": [
      "/Library/Frameworks/Python.framework/Versions/3.12/lib/python3.12/site-packages/sklearn/metrics/_scorer.py:610: FutureWarning: The `needs_threshold` and `needs_proba` parameter are deprecated in version 1.4 and will be removed in 1.6. You can either let `response_method` be `None` or set it to `predict` to preserve the same behaviour.\n",
      "  warnings.warn(\n"
     ]
    }
   ],
   "source": [
    "submission = predict_ratings_SVM(train_A, train_B)\n",
    "submission.to_csv(os.path.join(RESULT_DATA_DIR, \"train_B_predssssss_svm.csv\"), index=False)"
   ]
  }
 ],
 "metadata": {
  "kernelspec": {
   "display_name": "Python 3",
   "language": "python",
   "name": "python3"
  },
  "language_info": {
   "codemirror_mode": {
    "name": "ipython",
    "version": 3
   },
   "file_extension": ".py",
   "mimetype": "text/x-python",
   "name": "python",
   "nbconvert_exporter": "python",
   "pygments_lexer": "ipython3",
   "version": "3.12.1"
  }
 },
 "nbformat": 4,
 "nbformat_minor": 2
}
