{
 "cells": [
  {
   "cell_type": "markdown",
   "metadata": {},
   "source": [
    "# SVM"
   ]
  },
  {
   "cell_type": "code",
   "execution_count": 2,
   "metadata": {},
   "outputs": [],
   "source": [
    "import os \n",
    "import pandas as pd \n",
    "import numpy as np\n",
    "\n",
    "from sklearn.tree import DecisionTreeClassifier\n",
    "from sklearn.ensemble import RandomForestClassifier\n",
    "from sklearn.datasets import load_breast_cancer\n",
    "from sklearn.model_selection import train_test_split\n",
    "from sklearn.metrics import accuracy_score, make_scorer, log_loss, classification_report\n",
    "from sklearn.model_selection import GridSearchCV\n",
    "from sklearn.svm import SVC\n",
    "from sklearn.preprocessing import StandardScaler, OneHotEncoder\n",
    "from sklearn.impute import KNNImputer\n",
    "\n",
    "CLEAN_DATA_DIR = \"../data/clean/\"\n",
    "RESULT_DATA_DIR = \"../data/model_result/\""
   ]
  },
  {
   "cell_type": "markdown",
   "metadata": {},
   "source": [
    "## Apply SVM on unfilled dataset\n",
    "### Missing Values"
   ]
  },
  {
   "cell_type": "code",
   "execution_count": null,
   "metadata": {},
   "outputs": [
    {
     "name": "stdout",
     "output_type": "stream",
     "text": [
      "Columns with na values are:  ['Q06', 'Q07', 'Q08', 'Q11', 'Q19']\n"
     ]
    }
   ],
   "source": [
    "svm_unfilled = pd.read_csv(os.path.join(CLEAN_DATA_DIR, \"TRAIN_MERGED_UNFILLED.csv\"))\n",
    "\n",
    "missing_columns = svm_unfilled.columns[svm_unfilled.isnull().any()].tolist()\n",
    "print( 'Columns with na values are: ', missing_columns)\n",
    "\n",
    "# Fill na values with 'missing'\n",
    "svm_unfilled['Q06'] = svm_unfilled['Q06'].fillna(-1)\n",
    "svm_unfilled['Q07'] = svm_unfilled['Q07'].fillna(-1)\n",
    "svm_unfilled['Q08'] = svm_unfilled['Q08'].fillna(-1)\n",
    "svm_unfilled['Q11'] = svm_unfilled['Q11'].fillna(-1)\n",
    "svm_unfilled['Q19'] = svm_unfilled['Q19'].fillna(-1)"
   ]
  },
  {
   "cell_type": "code",
   "execution_count": null,
   "metadata": {},
   "outputs": [],
   "source": [
    "# One-hot encode categorical columns\n",
    "encoder = OneHotEncoder(sparse_output=False, drop=None)\n",
    "encoded = encoder.fit_transform(svm_unfilled[missing_columns])\n",
    "\n",
    "\n",
    "# Convert to DataFrame and combine with numerical features\n",
    "encoded_df = pd.DataFrame(encoded, columns=encoder.get_feature_names_out(missing_columns))\n",
    "numerical_df = svm_unfilled.drop(columns=missing_columns)\n",
    "\n",
    "# Combine numerical and encoded categorical data\n",
    "processed_df = pd.concat([numerical_df, encoded_df], axis=1)\n",
    "\n",
    "print(\"\\nAfter One-Hot Encoding:\")\n",
    "print(processed_df)"
   ]
  },
  {
   "cell_type": "markdown",
   "metadata": {},
   "source": [
    "### Divide data to train/test"
   ]
  },
  {
   "cell_type": "code",
   "execution_count": null,
   "metadata": {},
   "outputs": [],
   "source": [
    "y = processed_df['subjectivePoverty_rating']\n",
    "print(y)\n",
    "\n",
    "feature_cols = list(processed_df.columns.difference(['psu_hh_idcode', 'hhid', 'subjectivePoverty_rating']))\n",
    "X = processed_df[feature_cols]\n",
    "train_x, test_x, train_y, test_y = train_test_split(X, y, test_size = 0.2, random_state = 42)\n",
    "print(train_x.shape, test_x.shape, train_y.shape, test_y.shape)\n",
    "\n",
    "# Scale features\n",
    "scaler = StandardScaler()\n",
    "X_train_scaled = scaler.fit_transform(train_x)\n",
    "X_test_scaled = scaler.transform(test_x)"
   ]
  },
  {
   "cell_type": "markdown",
   "metadata": {},
   "source": [
    "### Hyeprparameter tuning with grid search"
   ]
  },
  {
   "cell_type": "code",
   "execution_count": null,
   "metadata": {},
   "outputs": [
    {
     "name": "stderr",
     "output_type": "stream",
     "text": [
      "/Library/Frameworks/Python.framework/Versions/3.12/lib/python3.12/site-packages/sklearn/metrics/_scorer.py:610: FutureWarning: The `needs_threshold` and `needs_proba` parameter are deprecated in version 1.4 and will be removed in 1.6. You can either let `response_method` be `None` or set it to `predict` to preserve the same behaviour.\n",
      "  warnings.warn(\n"
     ]
    },
    {
     "name": "stdout",
     "output_type": "stream",
     "text": [
      "Fitting 5 folds for each of 20 candidates, totalling 100 fits\n",
      "[CV] END .....................C=0.5, gamma=scale, kernel=rbf; total time=   2.4s\n",
      "[CV] END .....................C=0.5, gamma=scale, kernel=rbf; total time=   2.3s\n",
      "[CV] END .....................C=0.5, gamma=scale, kernel=rbf; total time=   2.3s\n",
      "[CV] END .....................C=0.5, gamma=scale, kernel=rbf; total time=   2.3s\n",
      "[CV] END .....................C=0.5, gamma=scale, kernel=rbf; total time=   2.3s\n",
      "[CV] END .........................C=0.5, gamma=1, kernel=rbf; total time=   2.8s\n",
      "[CV] END .........................C=0.5, gamma=1, kernel=rbf; total time=   2.8s\n",
      "[CV] END .........................C=0.5, gamma=1, kernel=rbf; total time=   3.0s\n",
      "[CV] END .........................C=0.5, gamma=1, kernel=rbf; total time=   3.0s\n",
      "[CV] END .........................C=0.5, gamma=1, kernel=rbf; total time=   3.0s\n",
      "[CV] END .......................C=0.5, gamma=0.1, kernel=rbf; total time=   2.8s\n",
      "[CV] END .......................C=0.5, gamma=0.1, kernel=rbf; total time=   2.7s\n",
      "[CV] END .......................C=0.5, gamma=0.1, kernel=rbf; total time=   2.7s\n",
      "[CV] END .......................C=0.5, gamma=0.1, kernel=rbf; total time=   2.6s\n",
      "[CV] END .......................C=0.5, gamma=0.1, kernel=rbf; total time=   2.5s\n",
      "[CV] END ......................C=0.5, gamma=0.01, kernel=rbf; total time=   2.4s\n",
      "[CV] END ......................C=0.5, gamma=0.01, kernel=rbf; total time=   2.4s\n",
      "[CV] END ......................C=0.5, gamma=0.01, kernel=rbf; total time=   2.5s\n",
      "[CV] END ......................C=0.5, gamma=0.01, kernel=rbf; total time=   2.4s\n",
      "[CV] END ......................C=0.5, gamma=0.01, kernel=rbf; total time=   2.4s\n",
      "[CV] END .....................C=0.5, gamma=0.001, kernel=rbf; total time=   2.2s\n",
      "[CV] END .....................C=0.5, gamma=0.001, kernel=rbf; total time=   2.2s\n",
      "[CV] END .....................C=0.5, gamma=0.001, kernel=rbf; total time=   2.1s\n",
      "[CV] END .....................C=0.5, gamma=0.001, kernel=rbf; total time=   2.2s\n",
      "[CV] END .....................C=0.5, gamma=0.001, kernel=rbf; total time=   2.2s\n",
      "[CV] END .......................C=1, gamma=scale, kernel=rbf; total time=   2.4s\n",
      "[CV] END .......................C=1, gamma=scale, kernel=rbf; total time=   2.4s\n",
      "[CV] END .......................C=1, gamma=scale, kernel=rbf; total time=   2.4s\n",
      "[CV] END .......................C=1, gamma=scale, kernel=rbf; total time=   2.4s\n",
      "[CV] END .......................C=1, gamma=scale, kernel=rbf; total time=   2.4s\n",
      "[CV] END ...........................C=1, gamma=1, kernel=rbf; total time=   2.8s\n",
      "[CV] END ...........................C=1, gamma=1, kernel=rbf; total time=   2.8s\n",
      "[CV] END ...........................C=1, gamma=1, kernel=rbf; total time=   2.8s\n",
      "[CV] END ...........................C=1, gamma=1, kernel=rbf; total time=   2.8s\n",
      "[CV] END ...........................C=1, gamma=1, kernel=rbf; total time=   2.9s\n",
      "[CV] END .........................C=1, gamma=0.1, kernel=rbf; total time=   2.5s\n",
      "[CV] END .........................C=1, gamma=0.1, kernel=rbf; total time=   2.5s\n",
      "[CV] END .........................C=1, gamma=0.1, kernel=rbf; total time=   2.6s\n",
      "[CV] END .........................C=1, gamma=0.1, kernel=rbf; total time=   2.5s\n",
      "[CV] END .........................C=1, gamma=0.1, kernel=rbf; total time=   2.5s\n",
      "[CV] END ........................C=1, gamma=0.01, kernel=rbf; total time=   2.4s\n",
      "[CV] END ........................C=1, gamma=0.01, kernel=rbf; total time=   2.3s\n",
      "[CV] END ........................C=1, gamma=0.01, kernel=rbf; total time=   2.4s\n",
      "[CV] END ........................C=1, gamma=0.01, kernel=rbf; total time=   2.3s\n",
      "[CV] END ........................C=1, gamma=0.01, kernel=rbf; total time=   2.3s\n",
      "[CV] END .......................C=1, gamma=0.001, kernel=rbf; total time=   2.3s\n",
      "[CV] END .......................C=1, gamma=0.001, kernel=rbf; total time=   2.3s\n",
      "[CV] END .......................C=1, gamma=0.001, kernel=rbf; total time=   2.2s\n",
      "[CV] END .......................C=1, gamma=0.001, kernel=rbf; total time=   2.2s\n",
      "[CV] END .......................C=1, gamma=0.001, kernel=rbf; total time=   2.3s\n",
      "[CV] END ......................C=10, gamma=scale, kernel=rbf; total time=   2.8s\n",
      "[CV] END ......................C=10, gamma=scale, kernel=rbf; total time=   2.8s\n",
      "[CV] END ......................C=10, gamma=scale, kernel=rbf; total time=   2.8s\n",
      "[CV] END ......................C=10, gamma=scale, kernel=rbf; total time=   2.8s\n",
      "[CV] END ......................C=10, gamma=scale, kernel=rbf; total time=   2.7s\n",
      "[CV] END ..........................C=10, gamma=1, kernel=rbf; total time=   3.4s\n",
      "[CV] END ..........................C=10, gamma=1, kernel=rbf; total time=   3.5s\n",
      "[CV] END ..........................C=10, gamma=1, kernel=rbf; total time=   3.4s\n",
      "[CV] END ..........................C=10, gamma=1, kernel=rbf; total time=   3.4s\n",
      "[CV] END ..........................C=10, gamma=1, kernel=rbf; total time=   3.4s\n",
      "[CV] END ........................C=10, gamma=0.1, kernel=rbf; total time=   3.0s\n",
      "[CV] END ........................C=10, gamma=0.1, kernel=rbf; total time=   3.0s\n",
      "[CV] END ........................C=10, gamma=0.1, kernel=rbf; total time=   3.0s\n",
      "[CV] END ........................C=10, gamma=0.1, kernel=rbf; total time=   3.0s\n",
      "[CV] END ........................C=10, gamma=0.1, kernel=rbf; total time=   2.9s\n",
      "[CV] END .......................C=10, gamma=0.01, kernel=rbf; total time=   2.7s\n",
      "[CV] END .......................C=10, gamma=0.01, kernel=rbf; total time=   2.7s\n",
      "[CV] END .......................C=10, gamma=0.01, kernel=rbf; total time=   2.7s\n",
      "[CV] END .......................C=10, gamma=0.01, kernel=rbf; total time=   2.7s\n",
      "[CV] END .......................C=10, gamma=0.01, kernel=rbf; total time=   2.7s\n",
      "[CV] END ......................C=10, gamma=0.001, kernel=rbf; total time=   2.7s\n",
      "[CV] END ......................C=10, gamma=0.001, kernel=rbf; total time=   2.6s\n",
      "[CV] END ......................C=10, gamma=0.001, kernel=rbf; total time=   2.6s\n",
      "[CV] END ......................C=10, gamma=0.001, kernel=rbf; total time=   2.6s\n",
      "[CV] END ......................C=10, gamma=0.001, kernel=rbf; total time=   2.6s\n",
      "[CV] END .....................C=100, gamma=scale, kernel=rbf; total time=   4.7s\n",
      "[CV] END .....................C=100, gamma=scale, kernel=rbf; total time=   4.4s\n",
      "[CV] END .....................C=100, gamma=scale, kernel=rbf; total time=   4.5s\n",
      "[CV] END .....................C=100, gamma=scale, kernel=rbf; total time=   4.5s\n",
      "[CV] END .....................C=100, gamma=scale, kernel=rbf; total time=   4.3s\n",
      "[CV] END .........................C=100, gamma=1, kernel=rbf; total time=   6.0s\n",
      "[CV] END .........................C=100, gamma=1, kernel=rbf; total time=   5.7s\n",
      "[CV] END .........................C=100, gamma=1, kernel=rbf; total time=   6.5s\n",
      "[CV] END .........................C=100, gamma=1, kernel=rbf; total time=   5.9s\n",
      "[CV] END .........................C=100, gamma=1, kernel=rbf; total time=   6.1s\n",
      "[CV] END .......................C=100, gamma=0.1, kernel=rbf; total time=   5.3s\n",
      "[CV] END .......................C=100, gamma=0.1, kernel=rbf; total time=   5.6s\n",
      "[CV] END .......................C=100, gamma=0.1, kernel=rbf; total time=   6.6s\n",
      "[CV] END .......................C=100, gamma=0.1, kernel=rbf; total time=   6.0s\n",
      "[CV] END .......................C=100, gamma=0.1, kernel=rbf; total time=   5.8s\n",
      "[CV] END ......................C=100, gamma=0.01, kernel=rbf; total time=   4.5s\n",
      "[CV] END ......................C=100, gamma=0.01, kernel=rbf; total time=   4.4s\n",
      "[CV] END ......................C=100, gamma=0.01, kernel=rbf; total time=   4.2s\n",
      "[CV] END ......................C=100, gamma=0.01, kernel=rbf; total time=   4.1s\n",
      "[CV] END ......................C=100, gamma=0.01, kernel=rbf; total time=   3.8s\n",
      "[CV] END .....................C=100, gamma=0.001, kernel=rbf; total time=   3.4s\n",
      "[CV] END .....................C=100, gamma=0.001, kernel=rbf; total time=   3.3s\n",
      "[CV] END .....................C=100, gamma=0.001, kernel=rbf; total time=   3.4s\n",
      "[CV] END .....................C=100, gamma=0.001, kernel=rbf; total time=   3.4s\n",
      "[CV] END .....................C=100, gamma=0.001, kernel=rbf; total time=   3.5s\n",
      "Best Parameters: {'C': 10, 'gamma': 0.01, 'kernel': 'rbf'}\n",
      "Best Log Loss: -1.948786842738619\n"
     ]
    }
   ],
   "source": [
    "# GridSearch CV\n",
    "param_grid = {\n",
    "    'C': [0.5, 1, 10, 100],\n",
    "    'gamma': ['scale', 1, 0.1, 0.01, 0.001],\n",
    "    'kernel': ['rbf']\n",
    "}\n",
    "\n",
    "log_loss_scorer = make_scorer(log_loss, greater_is_better=False, needs_proba=True)\n",
    "optimal_params = GridSearchCV(SVC(probability=True, random_state=42), param_grid, cv=5, scoring='neg_log_loss', verbose=2)\n",
    "optimal_params.fit(X_train_scaled, train_y)\n",
    "print(\"Best Parameters:\", optimal_params.best_params_)\n",
    "print(\"Best Log Loss:\", optimal_params.best_score_)\n",
    "\n",
    "\n",
    "\n",
    "# Best Parameters: {'C': 10, 'gamma': 0.01, 'kernel': 'rbf'}\n",
    "# Best Log Loss: -1.948786842738619\n"
   ]
  },
  {
   "cell_type": "code",
   "execution_count": null,
   "metadata": {},
   "outputs": [],
   "source": [
    "# Best Parameters: {'C': 10, 'gamma': 0.01, 'kernel': 'rbf'}\n",
    "# Best Log Loss: -1.948546531080508\n",
    "svm_model = SVC(C=10, gamma=0.01, kernel='rbf', probability=True, random_state=42)\n",
    "svm_model.fit(X_train_scaled, train_y)\n",
    "pred = svm_model.predict_proba(X_test_scaled)\n",
    "log_loss(test_y, pred)\n",
    "#1.9642149345026059\n",
    "\n",
    "X_test_scaled.size()"
   ]
  }
 ],
 "metadata": {
  "kernelspec": {
   "display_name": "Python 3",
   "language": "python",
   "name": "python3"
  },
  "language_info": {
   "codemirror_mode": {
    "name": "ipython",
    "version": 3
   },
   "file_extension": ".py",
   "mimetype": "text/x-python",
   "name": "python",
   "nbconvert_exporter": "python",
   "pygments_lexer": "ipython3",
   "version": "3.12.1"
  }
 },
 "nbformat": 4,
 "nbformat_minor": 2
}
